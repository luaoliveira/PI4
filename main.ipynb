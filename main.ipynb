{
 "cells": [
  {
   "cell_type": "code",
   "execution_count": 54,
   "metadata": {},
   "outputs": [],
   "source": [
    "import pandas as pd\n",
    "import geopandas as gpd \n",
    "import plotly.express as px\n",
    "import matplotlib.pyplot as plt\n",
    "import plotly.graph_objects as go"
   ]
  },
  {
   "cell_type": "code",
   "execution_count": 55,
   "metadata": {},
   "outputs": [],
   "source": [
    "df=pd.read_csv(\"br-capes-btd-2021-2023-10-31.csv\", encoding='ISO-8859-1', delimiter=';')"
   ]
  },
  {
   "cell_type": "code",
   "execution_count": 56,
   "metadata": {},
   "outputs": [],
   "source": [
    "df_columns= pd.DataFrame(df.columns, columns=['Estados'])"
   ]
  },
  {
   "cell_type": "code",
   "execution_count": 57,
   "metadata": {},
   "outputs": [
    {
     "data": {
      "text/plain": [
       "0    30JUN2021:00:00:00\n",
       "Name: DT_TITULACAO, dtype: object"
      ]
     },
     "execution_count": 57,
     "metadata": {},
     "output_type": "execute_result"
    }
   ],
   "source": [
    "df['DT_TITULACAO'].head(1)"
   ]
  },
  {
   "cell_type": "code",
   "execution_count": 58,
   "metadata": {},
   "outputs": [
    {
     "data": {
      "text/html": [
       "<div>\n",
       "<style scoped>\n",
       "    .dataframe tbody tr th:only-of-type {\n",
       "        vertical-align: middle;\n",
       "    }\n",
       "\n",
       "    .dataframe tbody tr th {\n",
       "        vertical-align: top;\n",
       "    }\n",
       "\n",
       "    .dataframe thead th {\n",
       "        text-align: right;\n",
       "    }\n",
       "</style>\n",
       "<table border=\"1\" class=\"dataframe\">\n",
       "  <thead>\n",
       "    <tr style=\"text-align: right;\">\n",
       "      <th></th>\n",
       "      <th>Estados</th>\n",
       "    </tr>\n",
       "  </thead>\n",
       "  <tbody>\n",
       "    <tr>\n",
       "      <th>0</th>\n",
       "      <td>AN_BASE</td>\n",
       "    </tr>\n",
       "    <tr>\n",
       "      <th>1</th>\n",
       "      <td>CD_PROGRAMA</td>\n",
       "    </tr>\n",
       "    <tr>\n",
       "      <th>2</th>\n",
       "      <td>NM_PROGRAMA</td>\n",
       "    </tr>\n",
       "    <tr>\n",
       "      <th>3</th>\n",
       "      <td>CD_ENTIDADE_CAPES</td>\n",
       "    </tr>\n",
       "    <tr>\n",
       "      <th>4</th>\n",
       "      <td>SG_ENTIDADE_ENSINO</td>\n",
       "    </tr>\n",
       "    <tr>\n",
       "      <th>5</th>\n",
       "      <td>NM_ENTIDADE_ENSINO</td>\n",
       "    </tr>\n",
       "    <tr>\n",
       "      <th>6</th>\n",
       "      <td>ID_ADD_PRODUCAO_INTELECTUAL</td>\n",
       "    </tr>\n",
       "    <tr>\n",
       "      <th>7</th>\n",
       "      <td>ID_PRODUCAO_INTELECTUAL</td>\n",
       "    </tr>\n",
       "    <tr>\n",
       "      <th>8</th>\n",
       "      <td>NM_PRODUCAO</td>\n",
       "    </tr>\n",
       "    <tr>\n",
       "      <th>9</th>\n",
       "      <td>ID_SUBTIPO_PRODUCAO</td>\n",
       "    </tr>\n",
       "    <tr>\n",
       "      <th>10</th>\n",
       "      <td>NM_SUBTIPO_PRODUCAO</td>\n",
       "    </tr>\n",
       "    <tr>\n",
       "      <th>11</th>\n",
       "      <td>ID_AREA_CONCENTRACAO</td>\n",
       "    </tr>\n",
       "    <tr>\n",
       "      <th>12</th>\n",
       "      <td>NM_AREA_CONCENTRACAO</td>\n",
       "    </tr>\n",
       "    <tr>\n",
       "      <th>13</th>\n",
       "      <td>ID_LINHA_PESQUISA</td>\n",
       "    </tr>\n",
       "    <tr>\n",
       "      <th>14</th>\n",
       "      <td>NM_LINHA_PESQUISA</td>\n",
       "    </tr>\n",
       "    <tr>\n",
       "      <th>15</th>\n",
       "      <td>ID_PROJETO</td>\n",
       "    </tr>\n",
       "    <tr>\n",
       "      <th>16</th>\n",
       "      <td>NM_PROJETO</td>\n",
       "    </tr>\n",
       "    <tr>\n",
       "      <th>17</th>\n",
       "      <td>DH_INICIO_AREA_CONC</td>\n",
       "    </tr>\n",
       "    <tr>\n",
       "      <th>18</th>\n",
       "      <td>DH_FIM_AREA_CONC</td>\n",
       "    </tr>\n",
       "    <tr>\n",
       "      <th>19</th>\n",
       "      <td>DH_INICIO_LINHA</td>\n",
       "    </tr>\n",
       "    <tr>\n",
       "      <th>20</th>\n",
       "      <td>DH_FIM_LINHA</td>\n",
       "    </tr>\n",
       "    <tr>\n",
       "      <th>21</th>\n",
       "      <td>DT_TITULACAO</td>\n",
       "    </tr>\n",
       "    <tr>\n",
       "      <th>22</th>\n",
       "      <td>DS_PALAVRA_CHAVE</td>\n",
       "    </tr>\n",
       "    <tr>\n",
       "      <th>23</th>\n",
       "      <td>DS_ABSTRACT</td>\n",
       "    </tr>\n",
       "    <tr>\n",
       "      <th>24</th>\n",
       "      <td>DS_KEYWORD</td>\n",
       "    </tr>\n",
       "    <tr>\n",
       "      <th>25</th>\n",
       "      <td>IN_TRABALHO_MESMA_AREA</td>\n",
       "    </tr>\n",
       "    <tr>\n",
       "      <th>26</th>\n",
       "      <td>NM_TP_VINCULO</td>\n",
       "    </tr>\n",
       "    <tr>\n",
       "      <th>27</th>\n",
       "      <td>IN_ORIENT_PARTICIPOU_BANCA</td>\n",
       "    </tr>\n",
       "    <tr>\n",
       "      <th>28</th>\n",
       "      <td>DS_BIBLIOTECA_DEPOSITARIA</td>\n",
       "    </tr>\n",
       "    <tr>\n",
       "      <th>29</th>\n",
       "      <td>ID_TP_EXPECTATIVA_ATUACAO</td>\n",
       "    </tr>\n",
       "    <tr>\n",
       "      <th>30</th>\n",
       "      <td>NM_EXPECTATIVA_ATUACAO</td>\n",
       "    </tr>\n",
       "    <tr>\n",
       "      <th>31</th>\n",
       "      <td>ID_PESSOA_DISCENTE</td>\n",
       "    </tr>\n",
       "    <tr>\n",
       "      <th>32</th>\n",
       "      <td>NM_DISCENTE</td>\n",
       "    </tr>\n",
       "    <tr>\n",
       "      <th>33</th>\n",
       "      <td>DT_MATRICULA</td>\n",
       "    </tr>\n",
       "    <tr>\n",
       "      <th>34</th>\n",
       "      <td>ID_GRAU_ACADEMICO</td>\n",
       "    </tr>\n",
       "    <tr>\n",
       "      <th>35</th>\n",
       "      <td>NM_GRAU_ACADEMICO</td>\n",
       "    </tr>\n",
       "    <tr>\n",
       "      <th>36</th>\n",
       "      <td>NM_ORIENTADOR</td>\n",
       "    </tr>\n",
       "    <tr>\n",
       "      <th>37</th>\n",
       "      <td>DS_CATEGORIA_ORIENTADOR</td>\n",
       "    </tr>\n",
       "    <tr>\n",
       "      <th>38</th>\n",
       "      <td>NM_CATEGORIA_DOCENTE</td>\n",
       "    </tr>\n",
       "    <tr>\n",
       "      <th>39</th>\n",
       "      <td>NM_REGIAO</td>\n",
       "    </tr>\n",
       "    <tr>\n",
       "      <th>40</th>\n",
       "      <td>SG_UF_IES</td>\n",
       "    </tr>\n",
       "    <tr>\n",
       "      <th>41</th>\n",
       "      <td>NM_UF_IES</td>\n",
       "    </tr>\n",
       "    <tr>\n",
       "      <th>42</th>\n",
       "      <td>CD_GRANDE_AREA_CONHECIMENTO</td>\n",
       "    </tr>\n",
       "    <tr>\n",
       "      <th>43</th>\n",
       "      <td>NM_GRANDE_AREA_CONHECIMENTO</td>\n",
       "    </tr>\n",
       "    <tr>\n",
       "      <th>44</th>\n",
       "      <td>CD_AREA_CONHECIMENTO</td>\n",
       "    </tr>\n",
       "    <tr>\n",
       "      <th>45</th>\n",
       "      <td>NM_AREA_CONHECIMENTO</td>\n",
       "    </tr>\n",
       "    <tr>\n",
       "      <th>46</th>\n",
       "      <td>CD_SUBAREA_CONHECIMENTO</td>\n",
       "    </tr>\n",
       "    <tr>\n",
       "      <th>47</th>\n",
       "      <td>NM_SUBAREA_CONHECIMENTO</td>\n",
       "    </tr>\n",
       "    <tr>\n",
       "      <th>48</th>\n",
       "      <td>CD_ESPECIALIDADE</td>\n",
       "    </tr>\n",
       "    <tr>\n",
       "      <th>49</th>\n",
       "      <td>NM_ESPECIALIDADE</td>\n",
       "    </tr>\n",
       "    <tr>\n",
       "      <th>50</th>\n",
       "      <td>NM_AREA_AVALIACAO</td>\n",
       "    </tr>\n",
       "    <tr>\n",
       "      <th>51</th>\n",
       "      <td>NR_VOLUME</td>\n",
       "    </tr>\n",
       "    <tr>\n",
       "      <th>52</th>\n",
       "      <td>NR_PAGINAS</td>\n",
       "    </tr>\n",
       "    <tr>\n",
       "      <th>53</th>\n",
       "      <td>NM_IDIOMA</td>\n",
       "    </tr>\n",
       "    <tr>\n",
       "      <th>54</th>\n",
       "      <td>DS_RESUMO</td>\n",
       "    </tr>\n",
       "    <tr>\n",
       "      <th>55</th>\n",
       "      <td>DS_URL_TEXTO_COMPLETO</td>\n",
       "    </tr>\n",
       "    <tr>\n",
       "      <th>56</th>\n",
       "      <td>ID_PESSOA_ORIENTADOR</td>\n",
       "    </tr>\n",
       "    <tr>\n",
       "      <th>57</th>\n",
       "      <td>IN_TCC_COM_VINCULO_PRODUCAO</td>\n",
       "    </tr>\n",
       "    <tr>\n",
       "      <th>58</th>\n",
       "      <td>ID_ADD_PRODUCAO_VINCULO_CT</td>\n",
       "    </tr>\n",
       "  </tbody>\n",
       "</table>\n",
       "</div>"
      ],
      "text/plain": [
       "                        Estados\n",
       "0                       AN_BASE\n",
       "1                   CD_PROGRAMA\n",
       "2                   NM_PROGRAMA\n",
       "3             CD_ENTIDADE_CAPES\n",
       "4            SG_ENTIDADE_ENSINO\n",
       "5            NM_ENTIDADE_ENSINO\n",
       "6   ID_ADD_PRODUCAO_INTELECTUAL\n",
       "7       ID_PRODUCAO_INTELECTUAL\n",
       "8                   NM_PRODUCAO\n",
       "9           ID_SUBTIPO_PRODUCAO\n",
       "10          NM_SUBTIPO_PRODUCAO\n",
       "11         ID_AREA_CONCENTRACAO\n",
       "12         NM_AREA_CONCENTRACAO\n",
       "13            ID_LINHA_PESQUISA\n",
       "14            NM_LINHA_PESQUISA\n",
       "15                   ID_PROJETO\n",
       "16                   NM_PROJETO\n",
       "17          DH_INICIO_AREA_CONC\n",
       "18             DH_FIM_AREA_CONC\n",
       "19              DH_INICIO_LINHA\n",
       "20                 DH_FIM_LINHA\n",
       "21                 DT_TITULACAO\n",
       "22             DS_PALAVRA_CHAVE\n",
       "23                  DS_ABSTRACT\n",
       "24                   DS_KEYWORD\n",
       "25       IN_TRABALHO_MESMA_AREA\n",
       "26                NM_TP_VINCULO\n",
       "27   IN_ORIENT_PARTICIPOU_BANCA\n",
       "28    DS_BIBLIOTECA_DEPOSITARIA\n",
       "29    ID_TP_EXPECTATIVA_ATUACAO\n",
       "30       NM_EXPECTATIVA_ATUACAO\n",
       "31           ID_PESSOA_DISCENTE\n",
       "32                  NM_DISCENTE\n",
       "33                 DT_MATRICULA\n",
       "34            ID_GRAU_ACADEMICO\n",
       "35            NM_GRAU_ACADEMICO\n",
       "36                NM_ORIENTADOR\n",
       "37      DS_CATEGORIA_ORIENTADOR\n",
       "38         NM_CATEGORIA_DOCENTE\n",
       "39                    NM_REGIAO\n",
       "40                    SG_UF_IES\n",
       "41                    NM_UF_IES\n",
       "42  CD_GRANDE_AREA_CONHECIMENTO\n",
       "43  NM_GRANDE_AREA_CONHECIMENTO\n",
       "44         CD_AREA_CONHECIMENTO\n",
       "45         NM_AREA_CONHECIMENTO\n",
       "46      CD_SUBAREA_CONHECIMENTO\n",
       "47      NM_SUBAREA_CONHECIMENTO\n",
       "48             CD_ESPECIALIDADE\n",
       "49             NM_ESPECIALIDADE\n",
       "50            NM_AREA_AVALIACAO\n",
       "51                    NR_VOLUME\n",
       "52                   NR_PAGINAS\n",
       "53                    NM_IDIOMA\n",
       "54                    DS_RESUMO\n",
       "55        DS_URL_TEXTO_COMPLETO\n",
       "56         ID_PESSOA_ORIENTADOR\n",
       "57  IN_TCC_COM_VINCULO_PRODUCAO\n",
       "58   ID_ADD_PRODUCAO_VINCULO_CT"
      ]
     },
     "execution_count": 58,
     "metadata": {},
     "output_type": "execute_result"
    }
   ],
   "source": [
    "df_columns"
   ]
  },
  {
   "cell_type": "markdown",
   "metadata": {},
   "source": [
    "* Medidas tendencia central\n",
    "* Boxplot\n",
    "* Histograma\n",
    "* Curtose, assimetria\n",
    "* Variação intraclasse -> determinar correlação\n",
    "* Variação interclasse -> determinar correlação\n",
    "* Coeficiente de crammer -> variaveis categoricas\n",
    "\n",
    "\n",
    "Grafico\n",
    "\n",
    "* Grafico de linhas \n",
    "    - Numero de trabalhos publicados ao longo do tempo, cresce ou aumenta?\n",
    "* Grafico de barras \n",
    "    - comparar as classes de trabalhos - áreas\n",
    "\n",
    "* Grafico de bolhas - geográfico\n",
    "* Mapas de calor para verificar quais as dias do ano mais pessoas defendem ao longo dos anos\n",
    "* Tree map alternativa ao grafico de pizza\n",
    "* Grafico de barras um do lado da outra para comparar defesa de mulheres e homens (2021,2022,2023)\n",
    "* dados cíclicos - grafico radar\n",
    "* Mapa cloroplético - \n",
    "\n",
    "correlações\n",
    "\n",
    "- INVESTIMENTO FEDERAL em educação vs numero de pos graduandos\n",
    "- \n",
    "\n"
   ]
  },
  {
   "cell_type": "markdown",
   "metadata": {},
   "source": []
  },
  {
   "cell_type": "markdown",
   "metadata": {},
   "source": [
    "### Trabalhos por estado "
   ]
  },
  {
   "cell_type": "code",
   "execution_count": 59,
   "metadata": {},
   "outputs": [],
   "source": [
    "df_grouped=pd.DataFrame(df.groupby('NM_UF_IES').size())\n",
    "df_grouped = df_grouped.reset_index(names='Count')\n",
    "df_grouped.columns = ['Estados', 'Count']"
   ]
  },
  {
   "cell_type": "code",
   "execution_count": 60,
   "metadata": {},
   "outputs": [
    {
     "data": {
      "application/vnd.plotly.v1+json": {
       "config": {
        "plotlyServerURL": "https://plot.ly"
       },
       "data": [
        {
         "alignmentgroup": "True",
         "hovertemplate": "Estados=%{x}<br>Count=%{y}<extra></extra>",
         "legendgroup": "",
         "marker": {
          "color": "#636efa",
          "pattern": {
           "shape": ""
          }
         },
         "name": "",
         "offsetgroup": "",
         "orientation": "v",
         "showlegend": false,
         "textposition": "auto",
         "type": "bar",
         "x": [
          "SÃO PAULO",
          "RIO DE JANEIRO",
          "MINAS GERAIS",
          "RIO GRANDE DO SUL",
          "PARANÁ",
          "SANTA CATARINA",
          "BAHIA",
          "PERNAMBUCO",
          "CEARÁ",
          "DISTRITO FEDERAL"
         ],
         "xaxis": "x",
         "y": [
          18158,
          9034,
          8763,
          7803,
          6677,
          3401,
          3045,
          2901,
          2576,
          2374
         ],
         "yaxis": "y"
        }
       ],
       "layout": {
        "barmode": "relative",
        "height": 500,
        "legend": {
         "tracegroupgap": 0
        },
        "template": {
         "data": {
          "bar": [
           {
            "error_x": {
             "color": "#2a3f5f"
            },
            "error_y": {
             "color": "#2a3f5f"
            },
            "marker": {
             "line": {
              "color": "#E5ECF6",
              "width": 0.5
             },
             "pattern": {
              "fillmode": "overlay",
              "size": 10,
              "solidity": 0.2
             }
            },
            "type": "bar"
           }
          ],
          "barpolar": [
           {
            "marker": {
             "line": {
              "color": "#E5ECF6",
              "width": 0.5
             },
             "pattern": {
              "fillmode": "overlay",
              "size": 10,
              "solidity": 0.2
             }
            },
            "type": "barpolar"
           }
          ],
          "carpet": [
           {
            "aaxis": {
             "endlinecolor": "#2a3f5f",
             "gridcolor": "white",
             "linecolor": "white",
             "minorgridcolor": "white",
             "startlinecolor": "#2a3f5f"
            },
            "baxis": {
             "endlinecolor": "#2a3f5f",
             "gridcolor": "white",
             "linecolor": "white",
             "minorgridcolor": "white",
             "startlinecolor": "#2a3f5f"
            },
            "type": "carpet"
           }
          ],
          "choropleth": [
           {
            "colorbar": {
             "outlinewidth": 0,
             "ticks": ""
            },
            "type": "choropleth"
           }
          ],
          "contour": [
           {
            "colorbar": {
             "outlinewidth": 0,
             "ticks": ""
            },
            "colorscale": [
             [
              0,
              "#0d0887"
             ],
             [
              0.1111111111111111,
              "#46039f"
             ],
             [
              0.2222222222222222,
              "#7201a8"
             ],
             [
              0.3333333333333333,
              "#9c179e"
             ],
             [
              0.4444444444444444,
              "#bd3786"
             ],
             [
              0.5555555555555556,
              "#d8576b"
             ],
             [
              0.6666666666666666,
              "#ed7953"
             ],
             [
              0.7777777777777778,
              "#fb9f3a"
             ],
             [
              0.8888888888888888,
              "#fdca26"
             ],
             [
              1,
              "#f0f921"
             ]
            ],
            "type": "contour"
           }
          ],
          "contourcarpet": [
           {
            "colorbar": {
             "outlinewidth": 0,
             "ticks": ""
            },
            "type": "contourcarpet"
           }
          ],
          "heatmap": [
           {
            "colorbar": {
             "outlinewidth": 0,
             "ticks": ""
            },
            "colorscale": [
             [
              0,
              "#0d0887"
             ],
             [
              0.1111111111111111,
              "#46039f"
             ],
             [
              0.2222222222222222,
              "#7201a8"
             ],
             [
              0.3333333333333333,
              "#9c179e"
             ],
             [
              0.4444444444444444,
              "#bd3786"
             ],
             [
              0.5555555555555556,
              "#d8576b"
             ],
             [
              0.6666666666666666,
              "#ed7953"
             ],
             [
              0.7777777777777778,
              "#fb9f3a"
             ],
             [
              0.8888888888888888,
              "#fdca26"
             ],
             [
              1,
              "#f0f921"
             ]
            ],
            "type": "heatmap"
           }
          ],
          "heatmapgl": [
           {
            "colorbar": {
             "outlinewidth": 0,
             "ticks": ""
            },
            "colorscale": [
             [
              0,
              "#0d0887"
             ],
             [
              0.1111111111111111,
              "#46039f"
             ],
             [
              0.2222222222222222,
              "#7201a8"
             ],
             [
              0.3333333333333333,
              "#9c179e"
             ],
             [
              0.4444444444444444,
              "#bd3786"
             ],
             [
              0.5555555555555556,
              "#d8576b"
             ],
             [
              0.6666666666666666,
              "#ed7953"
             ],
             [
              0.7777777777777778,
              "#fb9f3a"
             ],
             [
              0.8888888888888888,
              "#fdca26"
             ],
             [
              1,
              "#f0f921"
             ]
            ],
            "type": "heatmapgl"
           }
          ],
          "histogram": [
           {
            "marker": {
             "pattern": {
              "fillmode": "overlay",
              "size": 10,
              "solidity": 0.2
             }
            },
            "type": "histogram"
           }
          ],
          "histogram2d": [
           {
            "colorbar": {
             "outlinewidth": 0,
             "ticks": ""
            },
            "colorscale": [
             [
              0,
              "#0d0887"
             ],
             [
              0.1111111111111111,
              "#46039f"
             ],
             [
              0.2222222222222222,
              "#7201a8"
             ],
             [
              0.3333333333333333,
              "#9c179e"
             ],
             [
              0.4444444444444444,
              "#bd3786"
             ],
             [
              0.5555555555555556,
              "#d8576b"
             ],
             [
              0.6666666666666666,
              "#ed7953"
             ],
             [
              0.7777777777777778,
              "#fb9f3a"
             ],
             [
              0.8888888888888888,
              "#fdca26"
             ],
             [
              1,
              "#f0f921"
             ]
            ],
            "type": "histogram2d"
           }
          ],
          "histogram2dcontour": [
           {
            "colorbar": {
             "outlinewidth": 0,
             "ticks": ""
            },
            "colorscale": [
             [
              0,
              "#0d0887"
             ],
             [
              0.1111111111111111,
              "#46039f"
             ],
             [
              0.2222222222222222,
              "#7201a8"
             ],
             [
              0.3333333333333333,
              "#9c179e"
             ],
             [
              0.4444444444444444,
              "#bd3786"
             ],
             [
              0.5555555555555556,
              "#d8576b"
             ],
             [
              0.6666666666666666,
              "#ed7953"
             ],
             [
              0.7777777777777778,
              "#fb9f3a"
             ],
             [
              0.8888888888888888,
              "#fdca26"
             ],
             [
              1,
              "#f0f921"
             ]
            ],
            "type": "histogram2dcontour"
           }
          ],
          "mesh3d": [
           {
            "colorbar": {
             "outlinewidth": 0,
             "ticks": ""
            },
            "type": "mesh3d"
           }
          ],
          "parcoords": [
           {
            "line": {
             "colorbar": {
              "outlinewidth": 0,
              "ticks": ""
             }
            },
            "type": "parcoords"
           }
          ],
          "pie": [
           {
            "automargin": true,
            "type": "pie"
           }
          ],
          "scatter": [
           {
            "fillpattern": {
             "fillmode": "overlay",
             "size": 10,
             "solidity": 0.2
            },
            "type": "scatter"
           }
          ],
          "scatter3d": [
           {
            "line": {
             "colorbar": {
              "outlinewidth": 0,
              "ticks": ""
             }
            },
            "marker": {
             "colorbar": {
              "outlinewidth": 0,
              "ticks": ""
             }
            },
            "type": "scatter3d"
           }
          ],
          "scattercarpet": [
           {
            "marker": {
             "colorbar": {
              "outlinewidth": 0,
              "ticks": ""
             }
            },
            "type": "scattercarpet"
           }
          ],
          "scattergeo": [
           {
            "marker": {
             "colorbar": {
              "outlinewidth": 0,
              "ticks": ""
             }
            },
            "type": "scattergeo"
           }
          ],
          "scattergl": [
           {
            "marker": {
             "colorbar": {
              "outlinewidth": 0,
              "ticks": ""
             }
            },
            "type": "scattergl"
           }
          ],
          "scattermapbox": [
           {
            "marker": {
             "colorbar": {
              "outlinewidth": 0,
              "ticks": ""
             }
            },
            "type": "scattermapbox"
           }
          ],
          "scatterpolar": [
           {
            "marker": {
             "colorbar": {
              "outlinewidth": 0,
              "ticks": ""
             }
            },
            "type": "scatterpolar"
           }
          ],
          "scatterpolargl": [
           {
            "marker": {
             "colorbar": {
              "outlinewidth": 0,
              "ticks": ""
             }
            },
            "type": "scatterpolargl"
           }
          ],
          "scatterternary": [
           {
            "marker": {
             "colorbar": {
              "outlinewidth": 0,
              "ticks": ""
             }
            },
            "type": "scatterternary"
           }
          ],
          "surface": [
           {
            "colorbar": {
             "outlinewidth": 0,
             "ticks": ""
            },
            "colorscale": [
             [
              0,
              "#0d0887"
             ],
             [
              0.1111111111111111,
              "#46039f"
             ],
             [
              0.2222222222222222,
              "#7201a8"
             ],
             [
              0.3333333333333333,
              "#9c179e"
             ],
             [
              0.4444444444444444,
              "#bd3786"
             ],
             [
              0.5555555555555556,
              "#d8576b"
             ],
             [
              0.6666666666666666,
              "#ed7953"
             ],
             [
              0.7777777777777778,
              "#fb9f3a"
             ],
             [
              0.8888888888888888,
              "#fdca26"
             ],
             [
              1,
              "#f0f921"
             ]
            ],
            "type": "surface"
           }
          ],
          "table": [
           {
            "cells": {
             "fill": {
              "color": "#EBF0F8"
             },
             "line": {
              "color": "white"
             }
            },
            "header": {
             "fill": {
              "color": "#C8D4E3"
             },
             "line": {
              "color": "white"
             }
            },
            "type": "table"
           }
          ]
         },
         "layout": {
          "annotationdefaults": {
           "arrowcolor": "#2a3f5f",
           "arrowhead": 0,
           "arrowwidth": 1
          },
          "autotypenumbers": "strict",
          "coloraxis": {
           "colorbar": {
            "outlinewidth": 0,
            "ticks": ""
           }
          },
          "colorscale": {
           "diverging": [
            [
             0,
             "#8e0152"
            ],
            [
             0.1,
             "#c51b7d"
            ],
            [
             0.2,
             "#de77ae"
            ],
            [
             0.3,
             "#f1b6da"
            ],
            [
             0.4,
             "#fde0ef"
            ],
            [
             0.5,
             "#f7f7f7"
            ],
            [
             0.6,
             "#e6f5d0"
            ],
            [
             0.7,
             "#b8e186"
            ],
            [
             0.8,
             "#7fbc41"
            ],
            [
             0.9,
             "#4d9221"
            ],
            [
             1,
             "#276419"
            ]
           ],
           "sequential": [
            [
             0,
             "#0d0887"
            ],
            [
             0.1111111111111111,
             "#46039f"
            ],
            [
             0.2222222222222222,
             "#7201a8"
            ],
            [
             0.3333333333333333,
             "#9c179e"
            ],
            [
             0.4444444444444444,
             "#bd3786"
            ],
            [
             0.5555555555555556,
             "#d8576b"
            ],
            [
             0.6666666666666666,
             "#ed7953"
            ],
            [
             0.7777777777777778,
             "#fb9f3a"
            ],
            [
             0.8888888888888888,
             "#fdca26"
            ],
            [
             1,
             "#f0f921"
            ]
           ],
           "sequentialminus": [
            [
             0,
             "#0d0887"
            ],
            [
             0.1111111111111111,
             "#46039f"
            ],
            [
             0.2222222222222222,
             "#7201a8"
            ],
            [
             0.3333333333333333,
             "#9c179e"
            ],
            [
             0.4444444444444444,
             "#bd3786"
            ],
            [
             0.5555555555555556,
             "#d8576b"
            ],
            [
             0.6666666666666666,
             "#ed7953"
            ],
            [
             0.7777777777777778,
             "#fb9f3a"
            ],
            [
             0.8888888888888888,
             "#fdca26"
            ],
            [
             1,
             "#f0f921"
            ]
           ]
          },
          "colorway": [
           "#636efa",
           "#EF553B",
           "#00cc96",
           "#ab63fa",
           "#FFA15A",
           "#19d3f3",
           "#FF6692",
           "#B6E880",
           "#FF97FF",
           "#FECB52"
          ],
          "font": {
           "color": "#2a3f5f"
          },
          "geo": {
           "bgcolor": "white",
           "lakecolor": "white",
           "landcolor": "#E5ECF6",
           "showlakes": true,
           "showland": true,
           "subunitcolor": "white"
          },
          "hoverlabel": {
           "align": "left"
          },
          "hovermode": "closest",
          "mapbox": {
           "style": "light"
          },
          "paper_bgcolor": "white",
          "plot_bgcolor": "#E5ECF6",
          "polar": {
           "angularaxis": {
            "gridcolor": "white",
            "linecolor": "white",
            "ticks": ""
           },
           "bgcolor": "#E5ECF6",
           "radialaxis": {
            "gridcolor": "white",
            "linecolor": "white",
            "ticks": ""
           }
          },
          "scene": {
           "xaxis": {
            "backgroundcolor": "#E5ECF6",
            "gridcolor": "white",
            "gridwidth": 2,
            "linecolor": "white",
            "showbackground": true,
            "ticks": "",
            "zerolinecolor": "white"
           },
           "yaxis": {
            "backgroundcolor": "#E5ECF6",
            "gridcolor": "white",
            "gridwidth": 2,
            "linecolor": "white",
            "showbackground": true,
            "ticks": "",
            "zerolinecolor": "white"
           },
           "zaxis": {
            "backgroundcolor": "#E5ECF6",
            "gridcolor": "white",
            "gridwidth": 2,
            "linecolor": "white",
            "showbackground": true,
            "ticks": "",
            "zerolinecolor": "white"
           }
          },
          "shapedefaults": {
           "line": {
            "color": "#2a3f5f"
           }
          },
          "ternary": {
           "aaxis": {
            "gridcolor": "white",
            "linecolor": "white",
            "ticks": ""
           },
           "baxis": {
            "gridcolor": "white",
            "linecolor": "white",
            "ticks": ""
           },
           "bgcolor": "#E5ECF6",
           "caxis": {
            "gridcolor": "white",
            "linecolor": "white",
            "ticks": ""
           }
          },
          "title": {
           "x": 0.05
          },
          "xaxis": {
           "automargin": true,
           "gridcolor": "white",
           "linecolor": "white",
           "ticks": "",
           "title": {
            "standoff": 15
           },
           "zerolinecolor": "white",
           "zerolinewidth": 2
          },
          "yaxis": {
           "automargin": true,
           "gridcolor": "white",
           "linecolor": "white",
           "ticks": "",
           "title": {
            "standoff": 15
           },
           "zerolinecolor": "white",
           "zerolinewidth": 2
          }
         }
        },
        "title": {
         "text": "Distribuição de trabalhos por estado"
        },
        "width": 800,
        "xaxis": {
         "anchor": "y",
         "domain": [
          0,
          1
         ],
         "title": {
          "text": "Estado"
         }
        },
        "yaxis": {
         "anchor": "x",
         "domain": [
          0,
          1
         ],
         "title": {
          "text": "Contagem de trabalhos defendidos"
         }
        }
       }
      }
     },
     "metadata": {},
     "output_type": "display_data"
    }
   ],
   "source": [
    "df_top_15 = df_grouped.sort_values(by='Count', ascending=False).head(10)\n",
    "fig = px.bar(df_top_15.sort_values(by='Count', ascending=False), x='Estados', y='Count', title='Distribuição de trabalhos por estado')\n",
    "fig.update_layout(\n",
    "    yaxis_title='Contagem de trabalhos defendidos',\n",
    "    xaxis_title='Estado',\n",
    "    width=800,  # Adjust the width\n",
    "    height=500  # Adjust the height\n",
    ")\n",
    "fig.show()"
   ]
  },
  {
   "cell_type": "code",
   "execution_count": 61,
   "metadata": {},
   "outputs": [
    {
     "name": "stderr",
     "output_type": "stream",
     "text": [
      "C:\\Users\\luana\\AppData\\Local\\Temp\\ipykernel_25024\\4091591602.py:3: UserWarning:\n",
      "\n",
      "Geometry is in a geographic CRS. Results from 'centroid' are likely incorrect. Use 'GeoSeries.to_crs()' to re-project geometries to a projected CRS before this operation.\n",
      "\n",
      "\n"
     ]
    },
    {
     "data": {
      "text/html": [
       "<div>\n",
       "<style scoped>\n",
       "    .dataframe tbody tr th:only-of-type {\n",
       "        vertical-align: middle;\n",
       "    }\n",
       "\n",
       "    .dataframe tbody tr th {\n",
       "        vertical-align: top;\n",
       "    }\n",
       "\n",
       "    .dataframe thead th {\n",
       "        text-align: right;\n",
       "    }\n",
       "</style>\n",
       "<table border=\"1\" class=\"dataframe\">\n",
       "  <thead>\n",
       "    <tr style=\"text-align: right;\">\n",
       "      <th></th>\n",
       "      <th>CD_UF</th>\n",
       "      <th>NM_UF</th>\n",
       "      <th>SIGLA_UF</th>\n",
       "      <th>NM_REGIAO</th>\n",
       "      <th>AREA_KM2</th>\n",
       "      <th>geometry</th>\n",
       "      <th>centroid</th>\n",
       "    </tr>\n",
       "  </thead>\n",
       "  <tbody>\n",
       "    <tr>\n",
       "      <th>0</th>\n",
       "      <td>12</td>\n",
       "      <td>Acre</td>\n",
       "      <td>AC</td>\n",
       "      <td>Norte</td>\n",
       "      <td>164173.429</td>\n",
       "      <td>POLYGON ((-68.79282 -10.99957, -68.79367 -10.9...</td>\n",
       "      <td>POINT (-70.47293 -9.21327)</td>\n",
       "    </tr>\n",
       "    <tr>\n",
       "      <th>1</th>\n",
       "      <td>13</td>\n",
       "      <td>Amazonas</td>\n",
       "      <td>AM</td>\n",
       "      <td>Norte</td>\n",
       "      <td>1559255.881</td>\n",
       "      <td>POLYGON ((-56.76292 -3.23221, -56.76789 -3.242...</td>\n",
       "      <td>POINT (-64.65345 -4.15411)</td>\n",
       "    </tr>\n",
       "    <tr>\n",
       "      <th>2</th>\n",
       "      <td>15</td>\n",
       "      <td>Pará</td>\n",
       "      <td>PA</td>\n",
       "      <td>Norte</td>\n",
       "      <td>1245870.704</td>\n",
       "      <td>MULTIPOLYGON (((-48.97548 -0.19834, -48.97487 ...</td>\n",
       "      <td>POINT (-53.07149 -3.98042)</td>\n",
       "    </tr>\n",
       "    <tr>\n",
       "      <th>3</th>\n",
       "      <td>16</td>\n",
       "      <td>Amapá</td>\n",
       "      <td>AP</td>\n",
       "      <td>Norte</td>\n",
       "      <td>142470.762</td>\n",
       "      <td>MULTIPOLYGON (((-51.04561 -0.05088, -51.05422 ...</td>\n",
       "      <td>POINT (-51.96202 1.44746)</td>\n",
       "    </tr>\n",
       "    <tr>\n",
       "      <th>4</th>\n",
       "      <td>17</td>\n",
       "      <td>Tocantins</td>\n",
       "      <td>TO</td>\n",
       "      <td>Norte</td>\n",
       "      <td>277423.627</td>\n",
       "      <td>POLYGON ((-48.2483 -13.19239, -48.24844 -13.19...</td>\n",
       "      <td>POINT (-48.3313 -10.14808)</td>\n",
       "    </tr>\n",
       "    <tr>\n",
       "      <th>5</th>\n",
       "      <td>21</td>\n",
       "      <td>Maranhão</td>\n",
       "      <td>MA</td>\n",
       "      <td>Nordeste\\n</td>\n",
       "      <td>329651.496</td>\n",
       "      <td>MULTIPOLYGON (((-44.5868 -2.23341, -44.58696 -...</td>\n",
       "      <td>POINT (-45.28777 -5.07221)</td>\n",
       "    </tr>\n",
       "    <tr>\n",
       "      <th>6</th>\n",
       "      <td>22</td>\n",
       "      <td>Piauí</td>\n",
       "      <td>PI</td>\n",
       "      <td>Nordeste\\n</td>\n",
       "      <td>251755.481</td>\n",
       "      <td>POLYGON ((-42.47034 -3.48377, -42.46126 -3.484...</td>\n",
       "      <td>POINT (-42.97045 -7.3893)</td>\n",
       "    </tr>\n",
       "    <tr>\n",
       "      <th>7</th>\n",
       "      <td>23</td>\n",
       "      <td>Ceará</td>\n",
       "      <td>CE</td>\n",
       "      <td>Nordeste\\n</td>\n",
       "      <td>148894.447</td>\n",
       "      <td>POLYGON ((-37.87162 -4.3664, -37.87109 -4.3670...</td>\n",
       "      <td>POINT (-39.61579 -5.09322)</td>\n",
       "    </tr>\n",
       "    <tr>\n",
       "      <th>8</th>\n",
       "      <td>24</td>\n",
       "      <td>Rio Grande do Norte</td>\n",
       "      <td>RN</td>\n",
       "      <td>Nordeste\\n</td>\n",
       "      <td>52809.599</td>\n",
       "      <td>MULTIPOLYGON (((-35.18728 -5.78987, -35.18707 ...</td>\n",
       "      <td>POINT (-36.67327 -5.8398)</td>\n",
       "    </tr>\n",
       "    <tr>\n",
       "      <th>9</th>\n",
       "      <td>25</td>\n",
       "      <td>Paraíba</td>\n",
       "      <td>PB</td>\n",
       "      <td>Nordeste\\n</td>\n",
       "      <td>56467.242</td>\n",
       "      <td>MULTIPOLYGON (((-34.7958 -7.175, -34.79578 -7....</td>\n",
       "      <td>POINT (-36.83246 -7.12104)</td>\n",
       "    </tr>\n",
       "    <tr>\n",
       "      <th>10</th>\n",
       "      <td>26</td>\n",
       "      <td>Pernambuco</td>\n",
       "      <td>PE</td>\n",
       "      <td>Nordeste\\n</td>\n",
       "      <td>98067.877</td>\n",
       "      <td>MULTIPOLYGON (((-35.04823 -8.60936, -35.04756 ...</td>\n",
       "      <td>POINT (-37.99768 -8.32522)</td>\n",
       "    </tr>\n",
       "    <tr>\n",
       "      <th>11</th>\n",
       "      <td>27</td>\n",
       "      <td>Alagoas</td>\n",
       "      <td>AL</td>\n",
       "      <td>Nordeste\\n</td>\n",
       "      <td>27830.661</td>\n",
       "      <td>MULTIPOLYGON (((-35.287 -9.14489, -35.28699 -9...</td>\n",
       "      <td>POINT (-36.62485 -9.51367)</td>\n",
       "    </tr>\n",
       "    <tr>\n",
       "      <th>12</th>\n",
       "      <td>28</td>\n",
       "      <td>Sergipe</td>\n",
       "      <td>SE</td>\n",
       "      <td>Nordeste\\n</td>\n",
       "      <td>21938.188</td>\n",
       "      <td>MULTIPOLYGON (((-37.01203 -10.92784, -37.01267...</td>\n",
       "      <td>POINT (-37.44379 -10.58376)</td>\n",
       "    </tr>\n",
       "    <tr>\n",
       "      <th>13</th>\n",
       "      <td>29</td>\n",
       "      <td>Bahia</td>\n",
       "      <td>BA</td>\n",
       "      <td>Nordeste\\n</td>\n",
       "      <td>564760.429</td>\n",
       "      <td>MULTIPOLYGON (((-39.26447 -8.61413, -39.26341 ...</td>\n",
       "      <td>POINT (-41.72116 -12.47533)</td>\n",
       "    </tr>\n",
       "    <tr>\n",
       "      <th>14</th>\n",
       "      <td>31</td>\n",
       "      <td>Minas Gerais</td>\n",
       "      <td>MG</td>\n",
       "      <td>Sudeste\\n</td>\n",
       "      <td>586513.983</td>\n",
       "      <td>POLYGON ((-42.51148 -14.98627, -42.50964 -14.9...</td>\n",
       "      <td>POINT (-44.67336 -18.45618)</td>\n",
       "    </tr>\n",
       "    <tr>\n",
       "      <th>15</th>\n",
       "      <td>32</td>\n",
       "      <td>Espírito Santo</td>\n",
       "      <td>ES</td>\n",
       "      <td>Sudeste\\n</td>\n",
       "      <td>46074.448</td>\n",
       "      <td>MULTIPOLYGON (((-40.27883 -20.33437, -40.27883...</td>\n",
       "      <td>POINT (-40.66851 -19.57518)</td>\n",
       "    </tr>\n",
       "    <tr>\n",
       "      <th>16</th>\n",
       "      <td>33</td>\n",
       "      <td>Rio de Janeiro</td>\n",
       "      <td>RJ</td>\n",
       "      <td>Sudeste\\n</td>\n",
       "      <td>43750.425</td>\n",
       "      <td>MULTIPOLYGON (((-42.00612 -22.88563, -42.00634...</td>\n",
       "      <td>POINT (-42.66278 -22.19572)</td>\n",
       "    </tr>\n",
       "    <tr>\n",
       "      <th>17</th>\n",
       "      <td>35</td>\n",
       "      <td>São Paulo</td>\n",
       "      <td>SP</td>\n",
       "      <td>Sudeste\\n</td>\n",
       "      <td>248219.485</td>\n",
       "      <td>MULTIPOLYGON (((-46.47312 -22.70498, -46.47289...</td>\n",
       "      <td>POINT (-48.72896 -22.26584)</td>\n",
       "    </tr>\n",
       "    <tr>\n",
       "      <th>18</th>\n",
       "      <td>41</td>\n",
       "      <td>Paraná</td>\n",
       "      <td>PR</td>\n",
       "      <td>Sul\\n</td>\n",
       "      <td>199298.981</td>\n",
       "      <td>MULTIPOLYGON (((-48.30974 -25.49328, -48.27691...</td>\n",
       "      <td>POINT (-51.61664 -24.63588)</td>\n",
       "    </tr>\n",
       "    <tr>\n",
       "      <th>19</th>\n",
       "      <td>42</td>\n",
       "      <td>Santa Catarina</td>\n",
       "      <td>SC</td>\n",
       "      <td>Sul\\n</td>\n",
       "      <td>95730.690</td>\n",
       "      <td>MULTIPOLYGON (((-49.23653 -26.03711, -49.2365 ...</td>\n",
       "      <td>POINT (-50.47471 -27.2474)</td>\n",
       "    </tr>\n",
       "    <tr>\n",
       "      <th>20</th>\n",
       "      <td>43</td>\n",
       "      <td>Rio Grande do Sul</td>\n",
       "      <td>RS</td>\n",
       "      <td>Sul\\n</td>\n",
       "      <td>281707.151</td>\n",
       "      <td>MULTIPOLYGON (((-51.71873 -31.85463, -51.71941...</td>\n",
       "      <td>POINT (-53.24515 -29.78646)</td>\n",
       "    </tr>\n",
       "    <tr>\n",
       "      <th>21</th>\n",
       "      <td>50</td>\n",
       "      <td>Mato Grosso do Sul</td>\n",
       "      <td>MS</td>\n",
       "      <td>Centro-oeste\\n</td>\n",
       "      <td>357142.082</td>\n",
       "      <td>POLYGON ((-54.68379 -23.8305, -54.68569 -23.83...</td>\n",
       "      <td>POINT (-54.84556 -20.32733)</td>\n",
       "    </tr>\n",
       "    <tr>\n",
       "      <th>22</th>\n",
       "      <td>51</td>\n",
       "      <td>Mato Grosso</td>\n",
       "      <td>MT</td>\n",
       "      <td>Centro-oeste\\n</td>\n",
       "      <td>903208.361</td>\n",
       "      <td>POLYGON ((-56.0716 -17.17062, -56.07246 -17.17...</td>\n",
       "      <td>POINT (-55.91228 -12.94898)</td>\n",
       "    </tr>\n",
       "    <tr>\n",
       "      <th>23</th>\n",
       "      <td>52</td>\n",
       "      <td>Goiás</td>\n",
       "      <td>GO</td>\n",
       "      <td>Centro-oeste\\n</td>\n",
       "      <td>340242.859</td>\n",
       "      <td>POLYGON ((-47.33502 -15.58733, -47.33512 -15.5...</td>\n",
       "      <td>POINT (-49.62251 -16.04119)</td>\n",
       "    </tr>\n",
       "    <tr>\n",
       "      <th>24</th>\n",
       "      <td>53</td>\n",
       "      <td>Distrito Federal</td>\n",
       "      <td>DF</td>\n",
       "      <td>Centro-oeste\\n</td>\n",
       "      <td>5760.784</td>\n",
       "      <td>POLYGON ((-48.01472 -16.04996, -48.01573 -16.0...</td>\n",
       "      <td>POINT (-47.79685 -15.78117)</td>\n",
       "    </tr>\n",
       "    <tr>\n",
       "      <th>25</th>\n",
       "      <td>11</td>\n",
       "      <td>Rondônia</td>\n",
       "      <td>RO</td>\n",
       "      <td>Norte</td>\n",
       "      <td>237754.172</td>\n",
       "      <td>POLYGON ((-62.60021 -13.01675, -62.59999 -13.0...</td>\n",
       "      <td>POINT (-62.84196 -10.91314)</td>\n",
       "    </tr>\n",
       "    <tr>\n",
       "      <th>26</th>\n",
       "      <td>14</td>\n",
       "      <td>Roraima</td>\n",
       "      <td>RR</td>\n",
       "      <td>Norte</td>\n",
       "      <td>223644.530</td>\n",
       "      <td>POLYGON ((-60.12972 4.50843, -60.1296 4.50826,...</td>\n",
       "      <td>POINT (-61.39191 2.08271)</td>\n",
       "    </tr>\n",
       "  </tbody>\n",
       "</table>\n",
       "</div>"
      ],
      "text/plain": [
       "   CD_UF                NM_UF SIGLA_UF       NM_REGIAO     AREA_KM2  \\\n",
       "0     12                 Acre       AC           Norte   164173.429   \n",
       "1     13             Amazonas       AM           Norte  1559255.881   \n",
       "2     15                 Pará       PA           Norte  1245870.704   \n",
       "3     16                Amapá       AP           Norte   142470.762   \n",
       "4     17            Tocantins       TO           Norte   277423.627   \n",
       "5     21             Maranhão       MA      Nordeste\\n   329651.496   \n",
       "6     22                Piauí       PI      Nordeste\\n   251755.481   \n",
       "7     23                Ceará       CE      Nordeste\\n   148894.447   \n",
       "8     24  Rio Grande do Norte       RN      Nordeste\\n    52809.599   \n",
       "9     25              Paraíba       PB      Nordeste\\n    56467.242   \n",
       "10    26           Pernambuco       PE      Nordeste\\n    98067.877   \n",
       "11    27              Alagoas       AL      Nordeste\\n    27830.661   \n",
       "12    28              Sergipe       SE      Nordeste\\n    21938.188   \n",
       "13    29                Bahia       BA      Nordeste\\n   564760.429   \n",
       "14    31         Minas Gerais       MG       Sudeste\\n   586513.983   \n",
       "15    32       Espírito Santo       ES       Sudeste\\n    46074.448   \n",
       "16    33       Rio de Janeiro       RJ       Sudeste\\n    43750.425   \n",
       "17    35            São Paulo       SP       Sudeste\\n   248219.485   \n",
       "18    41               Paraná       PR           Sul\\n   199298.981   \n",
       "19    42       Santa Catarina       SC           Sul\\n    95730.690   \n",
       "20    43    Rio Grande do Sul       RS           Sul\\n   281707.151   \n",
       "21    50   Mato Grosso do Sul       MS  Centro-oeste\\n   357142.082   \n",
       "22    51          Mato Grosso       MT  Centro-oeste\\n   903208.361   \n",
       "23    52                Goiás       GO  Centro-oeste\\n   340242.859   \n",
       "24    53     Distrito Federal       DF  Centro-oeste\\n     5760.784   \n",
       "25    11             Rondônia       RO           Norte   237754.172   \n",
       "26    14              Roraima       RR           Norte   223644.530   \n",
       "\n",
       "                                             geometry  \\\n",
       "0   POLYGON ((-68.79282 -10.99957, -68.79367 -10.9...   \n",
       "1   POLYGON ((-56.76292 -3.23221, -56.76789 -3.242...   \n",
       "2   MULTIPOLYGON (((-48.97548 -0.19834, -48.97487 ...   \n",
       "3   MULTIPOLYGON (((-51.04561 -0.05088, -51.05422 ...   \n",
       "4   POLYGON ((-48.2483 -13.19239, -48.24844 -13.19...   \n",
       "5   MULTIPOLYGON (((-44.5868 -2.23341, -44.58696 -...   \n",
       "6   POLYGON ((-42.47034 -3.48377, -42.46126 -3.484...   \n",
       "7   POLYGON ((-37.87162 -4.3664, -37.87109 -4.3670...   \n",
       "8   MULTIPOLYGON (((-35.18728 -5.78987, -35.18707 ...   \n",
       "9   MULTIPOLYGON (((-34.7958 -7.175, -34.79578 -7....   \n",
       "10  MULTIPOLYGON (((-35.04823 -8.60936, -35.04756 ...   \n",
       "11  MULTIPOLYGON (((-35.287 -9.14489, -35.28699 -9...   \n",
       "12  MULTIPOLYGON (((-37.01203 -10.92784, -37.01267...   \n",
       "13  MULTIPOLYGON (((-39.26447 -8.61413, -39.26341 ...   \n",
       "14  POLYGON ((-42.51148 -14.98627, -42.50964 -14.9...   \n",
       "15  MULTIPOLYGON (((-40.27883 -20.33437, -40.27883...   \n",
       "16  MULTIPOLYGON (((-42.00612 -22.88563, -42.00634...   \n",
       "17  MULTIPOLYGON (((-46.47312 -22.70498, -46.47289...   \n",
       "18  MULTIPOLYGON (((-48.30974 -25.49328, -48.27691...   \n",
       "19  MULTIPOLYGON (((-49.23653 -26.03711, -49.2365 ...   \n",
       "20  MULTIPOLYGON (((-51.71873 -31.85463, -51.71941...   \n",
       "21  POLYGON ((-54.68379 -23.8305, -54.68569 -23.83...   \n",
       "22  POLYGON ((-56.0716 -17.17062, -56.07246 -17.17...   \n",
       "23  POLYGON ((-47.33502 -15.58733, -47.33512 -15.5...   \n",
       "24  POLYGON ((-48.01472 -16.04996, -48.01573 -16.0...   \n",
       "25  POLYGON ((-62.60021 -13.01675, -62.59999 -13.0...   \n",
       "26  POLYGON ((-60.12972 4.50843, -60.1296 4.50826,...   \n",
       "\n",
       "                       centroid  \n",
       "0    POINT (-70.47293 -9.21327)  \n",
       "1    POINT (-64.65345 -4.15411)  \n",
       "2    POINT (-53.07149 -3.98042)  \n",
       "3     POINT (-51.96202 1.44746)  \n",
       "4    POINT (-48.3313 -10.14808)  \n",
       "5    POINT (-45.28777 -5.07221)  \n",
       "6     POINT (-42.97045 -7.3893)  \n",
       "7    POINT (-39.61579 -5.09322)  \n",
       "8     POINT (-36.67327 -5.8398)  \n",
       "9    POINT (-36.83246 -7.12104)  \n",
       "10   POINT (-37.99768 -8.32522)  \n",
       "11   POINT (-36.62485 -9.51367)  \n",
       "12  POINT (-37.44379 -10.58376)  \n",
       "13  POINT (-41.72116 -12.47533)  \n",
       "14  POINT (-44.67336 -18.45618)  \n",
       "15  POINT (-40.66851 -19.57518)  \n",
       "16  POINT (-42.66278 -22.19572)  \n",
       "17  POINT (-48.72896 -22.26584)  \n",
       "18  POINT (-51.61664 -24.63588)  \n",
       "19   POINT (-50.47471 -27.2474)  \n",
       "20  POINT (-53.24515 -29.78646)  \n",
       "21  POINT (-54.84556 -20.32733)  \n",
       "22  POINT (-55.91228 -12.94898)  \n",
       "23  POINT (-49.62251 -16.04119)  \n",
       "24  POINT (-47.79685 -15.78117)  \n",
       "25  POINT (-62.84196 -10.91314)  \n",
       "26    POINT (-61.39191 2.08271)  "
      ]
     },
     "execution_count": 61,
     "metadata": {},
     "output_type": "execute_result"
    }
   ],
   "source": [
    "shapefile_path = \"BR_UF_2022/BR_UF_2022.shp\"\n",
    "gdf = gpd.read_file(shapefile_path)\n",
    "gdf['centroid'] = gdf.geometry.centroid\n",
    "\n",
    "gdf.head(30)"
   ]
  },
  {
   "cell_type": "code",
   "execution_count": 62,
   "metadata": {},
   "outputs": [
    {
     "data": {
      "text/html": [
       "<div>\n",
       "<style scoped>\n",
       "    .dataframe tbody tr th:only-of-type {\n",
       "        vertical-align: middle;\n",
       "    }\n",
       "\n",
       "    .dataframe tbody tr th {\n",
       "        vertical-align: top;\n",
       "    }\n",
       "\n",
       "    .dataframe thead th {\n",
       "        text-align: right;\n",
       "    }\n",
       "</style>\n",
       "<table border=\"1\" class=\"dataframe\">\n",
       "  <thead>\n",
       "    <tr style=\"text-align: right;\">\n",
       "      <th></th>\n",
       "      <th>SIGLA_UF</th>\n",
       "      <th>Count</th>\n",
       "    </tr>\n",
       "  </thead>\n",
       "  <tbody>\n",
       "    <tr>\n",
       "      <th>0</th>\n",
       "      <td>AC</td>\n",
       "      <td>215</td>\n",
       "    </tr>\n",
       "    <tr>\n",
       "      <th>1</th>\n",
       "      <td>AL</td>\n",
       "      <td>676</td>\n",
       "    </tr>\n",
       "    <tr>\n",
       "      <th>2</th>\n",
       "      <td>AM</td>\n",
       "      <td>860</td>\n",
       "    </tr>\n",
       "    <tr>\n",
       "      <th>3</th>\n",
       "      <td>AP</td>\n",
       "      <td>139</td>\n",
       "    </tr>\n",
       "    <tr>\n",
       "      <th>4</th>\n",
       "      <td>BA</td>\n",
       "      <td>3045</td>\n",
       "    </tr>\n",
       "  </tbody>\n",
       "</table>\n",
       "</div>"
      ],
      "text/plain": [
       "  SIGLA_UF  Count\n",
       "0       AC    215\n",
       "1       AL    676\n",
       "2       AM    860\n",
       "3       AP    139\n",
       "4       BA   3045"
      ]
     },
     "execution_count": 62,
     "metadata": {},
     "output_type": "execute_result"
    }
   ],
   "source": [
    "df_sg=pd.DataFrame(df.groupby('SG_UF_IES').size())\n",
    "df_sg = df_sg.reset_index(names='Count')\n",
    "df_sg.columns = ['SIGLA_UF', 'Count']\n",
    "df_sg.head()"
   ]
  },
  {
   "cell_type": "code",
   "execution_count": 63,
   "metadata": {},
   "outputs": [
    {
     "data": {
      "text/html": [
       "<div>\n",
       "<style scoped>\n",
       "    .dataframe tbody tr th:only-of-type {\n",
       "        vertical-align: middle;\n",
       "    }\n",
       "\n",
       "    .dataframe tbody tr th {\n",
       "        vertical-align: top;\n",
       "    }\n",
       "\n",
       "    .dataframe thead th {\n",
       "        text-align: right;\n",
       "    }\n",
       "</style>\n",
       "<table border=\"1\" class=\"dataframe\">\n",
       "  <thead>\n",
       "    <tr style=\"text-align: right;\">\n",
       "      <th></th>\n",
       "      <th>CD_UF</th>\n",
       "      <th>NM_UF</th>\n",
       "      <th>SIGLA_UF</th>\n",
       "      <th>NM_REGIAO</th>\n",
       "      <th>AREA_KM2</th>\n",
       "      <th>geometry</th>\n",
       "      <th>centroid</th>\n",
       "    </tr>\n",
       "  </thead>\n",
       "  <tbody>\n",
       "    <tr>\n",
       "      <th>0</th>\n",
       "      <td>12</td>\n",
       "      <td>Acre</td>\n",
       "      <td>AC</td>\n",
       "      <td>Norte</td>\n",
       "      <td>164173.429</td>\n",
       "      <td>POLYGON ((-68.79282 -10.99957, -68.79367 -10.9...</td>\n",
       "      <td>POINT (-70.47293 -9.21327)</td>\n",
       "    </tr>\n",
       "    <tr>\n",
       "      <th>1</th>\n",
       "      <td>13</td>\n",
       "      <td>Amazonas</td>\n",
       "      <td>AM</td>\n",
       "      <td>Norte</td>\n",
       "      <td>1559255.881</td>\n",
       "      <td>POLYGON ((-56.76292 -3.23221, -56.76789 -3.242...</td>\n",
       "      <td>POINT (-64.65345 -4.15411)</td>\n",
       "    </tr>\n",
       "    <tr>\n",
       "      <th>2</th>\n",
       "      <td>15</td>\n",
       "      <td>Pará</td>\n",
       "      <td>PA</td>\n",
       "      <td>Norte</td>\n",
       "      <td>1245870.704</td>\n",
       "      <td>MULTIPOLYGON (((-48.97548 -0.19834, -48.97487 ...</td>\n",
       "      <td>POINT (-53.07149 -3.98042)</td>\n",
       "    </tr>\n",
       "    <tr>\n",
       "      <th>3</th>\n",
       "      <td>16</td>\n",
       "      <td>Amapá</td>\n",
       "      <td>AP</td>\n",
       "      <td>Norte</td>\n",
       "      <td>142470.762</td>\n",
       "      <td>MULTIPOLYGON (((-51.04561 -0.05088, -51.05422 ...</td>\n",
       "      <td>POINT (-51.96202 1.44746)</td>\n",
       "    </tr>\n",
       "    <tr>\n",
       "      <th>4</th>\n",
       "      <td>17</td>\n",
       "      <td>Tocantins</td>\n",
       "      <td>TO</td>\n",
       "      <td>Norte</td>\n",
       "      <td>277423.627</td>\n",
       "      <td>POLYGON ((-48.2483 -13.19239, -48.24844 -13.19...</td>\n",
       "      <td>POINT (-48.3313 -10.14808)</td>\n",
       "    </tr>\n",
       "    <tr>\n",
       "      <th>5</th>\n",
       "      <td>21</td>\n",
       "      <td>Maranhão</td>\n",
       "      <td>MA</td>\n",
       "      <td>Nordeste\\n</td>\n",
       "      <td>329651.496</td>\n",
       "      <td>MULTIPOLYGON (((-44.5868 -2.23341, -44.58696 -...</td>\n",
       "      <td>POINT (-45.28777 -5.07221)</td>\n",
       "    </tr>\n",
       "    <tr>\n",
       "      <th>6</th>\n",
       "      <td>22</td>\n",
       "      <td>Piauí</td>\n",
       "      <td>PI</td>\n",
       "      <td>Nordeste\\n</td>\n",
       "      <td>251755.481</td>\n",
       "      <td>POLYGON ((-42.47034 -3.48377, -42.46126 -3.484...</td>\n",
       "      <td>POINT (-42.97045 -7.3893)</td>\n",
       "    </tr>\n",
       "    <tr>\n",
       "      <th>7</th>\n",
       "      <td>23</td>\n",
       "      <td>Ceará</td>\n",
       "      <td>CE</td>\n",
       "      <td>Nordeste\\n</td>\n",
       "      <td>148894.447</td>\n",
       "      <td>POLYGON ((-37.87162 -4.3664, -37.87109 -4.3670...</td>\n",
       "      <td>POINT (-39.61579 -5.09322)</td>\n",
       "    </tr>\n",
       "    <tr>\n",
       "      <th>8</th>\n",
       "      <td>24</td>\n",
       "      <td>Rio Grande do Norte</td>\n",
       "      <td>RN</td>\n",
       "      <td>Nordeste\\n</td>\n",
       "      <td>52809.599</td>\n",
       "      <td>MULTIPOLYGON (((-35.18728 -5.78987, -35.18707 ...</td>\n",
       "      <td>POINT (-36.67327 -5.8398)</td>\n",
       "    </tr>\n",
       "    <tr>\n",
       "      <th>9</th>\n",
       "      <td>25</td>\n",
       "      <td>Paraíba</td>\n",
       "      <td>PB</td>\n",
       "      <td>Nordeste\\n</td>\n",
       "      <td>56467.242</td>\n",
       "      <td>MULTIPOLYGON (((-34.7958 -7.175, -34.79578 -7....</td>\n",
       "      <td>POINT (-36.83246 -7.12104)</td>\n",
       "    </tr>\n",
       "    <tr>\n",
       "      <th>10</th>\n",
       "      <td>26</td>\n",
       "      <td>Pernambuco</td>\n",
       "      <td>PE</td>\n",
       "      <td>Nordeste\\n</td>\n",
       "      <td>98067.877</td>\n",
       "      <td>MULTIPOLYGON (((-35.04823 -8.60936, -35.04756 ...</td>\n",
       "      <td>POINT (-37.99768 -8.32522)</td>\n",
       "    </tr>\n",
       "    <tr>\n",
       "      <th>11</th>\n",
       "      <td>27</td>\n",
       "      <td>Alagoas</td>\n",
       "      <td>AL</td>\n",
       "      <td>Nordeste\\n</td>\n",
       "      <td>27830.661</td>\n",
       "      <td>MULTIPOLYGON (((-35.287 -9.14489, -35.28699 -9...</td>\n",
       "      <td>POINT (-36.62485 -9.51367)</td>\n",
       "    </tr>\n",
       "    <tr>\n",
       "      <th>12</th>\n",
       "      <td>28</td>\n",
       "      <td>Sergipe</td>\n",
       "      <td>SE</td>\n",
       "      <td>Nordeste\\n</td>\n",
       "      <td>21938.188</td>\n",
       "      <td>MULTIPOLYGON (((-37.01203 -10.92784, -37.01267...</td>\n",
       "      <td>POINT (-37.44379 -10.58376)</td>\n",
       "    </tr>\n",
       "    <tr>\n",
       "      <th>13</th>\n",
       "      <td>29</td>\n",
       "      <td>Bahia</td>\n",
       "      <td>BA</td>\n",
       "      <td>Nordeste\\n</td>\n",
       "      <td>564760.429</td>\n",
       "      <td>MULTIPOLYGON (((-39.26447 -8.61413, -39.26341 ...</td>\n",
       "      <td>POINT (-41.72116 -12.47533)</td>\n",
       "    </tr>\n",
       "    <tr>\n",
       "      <th>14</th>\n",
       "      <td>31</td>\n",
       "      <td>Minas Gerais</td>\n",
       "      <td>MG</td>\n",
       "      <td>Sudeste\\n</td>\n",
       "      <td>586513.983</td>\n",
       "      <td>POLYGON ((-42.51148 -14.98627, -42.50964 -14.9...</td>\n",
       "      <td>POINT (-44.67336 -18.45618)</td>\n",
       "    </tr>\n",
       "    <tr>\n",
       "      <th>15</th>\n",
       "      <td>32</td>\n",
       "      <td>Espírito Santo</td>\n",
       "      <td>ES</td>\n",
       "      <td>Sudeste\\n</td>\n",
       "      <td>46074.448</td>\n",
       "      <td>MULTIPOLYGON (((-40.27883 -20.33437, -40.27883...</td>\n",
       "      <td>POINT (-40.66851 -19.57518)</td>\n",
       "    </tr>\n",
       "    <tr>\n",
       "      <th>16</th>\n",
       "      <td>33</td>\n",
       "      <td>Rio de Janeiro</td>\n",
       "      <td>RJ</td>\n",
       "      <td>Sudeste\\n</td>\n",
       "      <td>43750.425</td>\n",
       "      <td>MULTIPOLYGON (((-42.00612 -22.88563, -42.00634...</td>\n",
       "      <td>POINT (-42.66278 -22.19572)</td>\n",
       "    </tr>\n",
       "    <tr>\n",
       "      <th>17</th>\n",
       "      <td>35</td>\n",
       "      <td>São Paulo</td>\n",
       "      <td>SP</td>\n",
       "      <td>Sudeste\\n</td>\n",
       "      <td>248219.485</td>\n",
       "      <td>MULTIPOLYGON (((-46.47312 -22.70498, -46.47289...</td>\n",
       "      <td>POINT (-48.72896 -22.26584)</td>\n",
       "    </tr>\n",
       "    <tr>\n",
       "      <th>18</th>\n",
       "      <td>41</td>\n",
       "      <td>Paraná</td>\n",
       "      <td>PR</td>\n",
       "      <td>Sul\\n</td>\n",
       "      <td>199298.981</td>\n",
       "      <td>MULTIPOLYGON (((-48.30974 -25.49328, -48.27691...</td>\n",
       "      <td>POINT (-51.61664 -24.63588)</td>\n",
       "    </tr>\n",
       "    <tr>\n",
       "      <th>19</th>\n",
       "      <td>42</td>\n",
       "      <td>Santa Catarina</td>\n",
       "      <td>SC</td>\n",
       "      <td>Sul\\n</td>\n",
       "      <td>95730.690</td>\n",
       "      <td>MULTIPOLYGON (((-49.23653 -26.03711, -49.2365 ...</td>\n",
       "      <td>POINT (-50.47471 -27.2474)</td>\n",
       "    </tr>\n",
       "    <tr>\n",
       "      <th>20</th>\n",
       "      <td>43</td>\n",
       "      <td>Rio Grande do Sul</td>\n",
       "      <td>RS</td>\n",
       "      <td>Sul\\n</td>\n",
       "      <td>281707.151</td>\n",
       "      <td>MULTIPOLYGON (((-51.71873 -31.85463, -51.71941...</td>\n",
       "      <td>POINT (-53.24515 -29.78646)</td>\n",
       "    </tr>\n",
       "    <tr>\n",
       "      <th>21</th>\n",
       "      <td>50</td>\n",
       "      <td>Mato Grosso do Sul</td>\n",
       "      <td>MS</td>\n",
       "      <td>Centro-oeste\\n</td>\n",
       "      <td>357142.082</td>\n",
       "      <td>POLYGON ((-54.68379 -23.8305, -54.68569 -23.83...</td>\n",
       "      <td>POINT (-54.84556 -20.32733)</td>\n",
       "    </tr>\n",
       "    <tr>\n",
       "      <th>22</th>\n",
       "      <td>51</td>\n",
       "      <td>Mato Grosso</td>\n",
       "      <td>MT</td>\n",
       "      <td>Centro-oeste\\n</td>\n",
       "      <td>903208.361</td>\n",
       "      <td>POLYGON ((-56.0716 -17.17062, -56.07246 -17.17...</td>\n",
       "      <td>POINT (-55.91228 -12.94898)</td>\n",
       "    </tr>\n",
       "    <tr>\n",
       "      <th>23</th>\n",
       "      <td>52</td>\n",
       "      <td>Goiás</td>\n",
       "      <td>GO</td>\n",
       "      <td>Centro-oeste\\n</td>\n",
       "      <td>340242.859</td>\n",
       "      <td>POLYGON ((-47.33502 -15.58733, -47.33512 -15.5...</td>\n",
       "      <td>POINT (-49.62251 -16.04119)</td>\n",
       "    </tr>\n",
       "    <tr>\n",
       "      <th>24</th>\n",
       "      <td>53</td>\n",
       "      <td>Distrito Federal</td>\n",
       "      <td>DF</td>\n",
       "      <td>Centro-oeste\\n</td>\n",
       "      <td>5760.784</td>\n",
       "      <td>POLYGON ((-48.01472 -16.04996, -48.01573 -16.0...</td>\n",
       "      <td>POINT (-47.79685 -15.78117)</td>\n",
       "    </tr>\n",
       "    <tr>\n",
       "      <th>25</th>\n",
       "      <td>11</td>\n",
       "      <td>Rondônia</td>\n",
       "      <td>RO</td>\n",
       "      <td>Norte</td>\n",
       "      <td>237754.172</td>\n",
       "      <td>POLYGON ((-62.60021 -13.01675, -62.59999 -13.0...</td>\n",
       "      <td>POINT (-62.84196 -10.91314)</td>\n",
       "    </tr>\n",
       "    <tr>\n",
       "      <th>26</th>\n",
       "      <td>14</td>\n",
       "      <td>Roraima</td>\n",
       "      <td>RR</td>\n",
       "      <td>Norte</td>\n",
       "      <td>223644.530</td>\n",
       "      <td>POLYGON ((-60.12972 4.50843, -60.1296 4.50826,...</td>\n",
       "      <td>POINT (-61.39191 2.08271)</td>\n",
       "    </tr>\n",
       "  </tbody>\n",
       "</table>\n",
       "</div>"
      ],
      "text/plain": [
       "   CD_UF                NM_UF SIGLA_UF       NM_REGIAO     AREA_KM2  \\\n",
       "0     12                 Acre       AC           Norte   164173.429   \n",
       "1     13             Amazonas       AM           Norte  1559255.881   \n",
       "2     15                 Pará       PA           Norte  1245870.704   \n",
       "3     16                Amapá       AP           Norte   142470.762   \n",
       "4     17            Tocantins       TO           Norte   277423.627   \n",
       "5     21             Maranhão       MA      Nordeste\\n   329651.496   \n",
       "6     22                Piauí       PI      Nordeste\\n   251755.481   \n",
       "7     23                Ceará       CE      Nordeste\\n   148894.447   \n",
       "8     24  Rio Grande do Norte       RN      Nordeste\\n    52809.599   \n",
       "9     25              Paraíba       PB      Nordeste\\n    56467.242   \n",
       "10    26           Pernambuco       PE      Nordeste\\n    98067.877   \n",
       "11    27              Alagoas       AL      Nordeste\\n    27830.661   \n",
       "12    28              Sergipe       SE      Nordeste\\n    21938.188   \n",
       "13    29                Bahia       BA      Nordeste\\n   564760.429   \n",
       "14    31         Minas Gerais       MG       Sudeste\\n   586513.983   \n",
       "15    32       Espírito Santo       ES       Sudeste\\n    46074.448   \n",
       "16    33       Rio de Janeiro       RJ       Sudeste\\n    43750.425   \n",
       "17    35            São Paulo       SP       Sudeste\\n   248219.485   \n",
       "18    41               Paraná       PR           Sul\\n   199298.981   \n",
       "19    42       Santa Catarina       SC           Sul\\n    95730.690   \n",
       "20    43    Rio Grande do Sul       RS           Sul\\n   281707.151   \n",
       "21    50   Mato Grosso do Sul       MS  Centro-oeste\\n   357142.082   \n",
       "22    51          Mato Grosso       MT  Centro-oeste\\n   903208.361   \n",
       "23    52                Goiás       GO  Centro-oeste\\n   340242.859   \n",
       "24    53     Distrito Federal       DF  Centro-oeste\\n     5760.784   \n",
       "25    11             Rondônia       RO           Norte   237754.172   \n",
       "26    14              Roraima       RR           Norte   223644.530   \n",
       "\n",
       "                                             geometry  \\\n",
       "0   POLYGON ((-68.79282 -10.99957, -68.79367 -10.9...   \n",
       "1   POLYGON ((-56.76292 -3.23221, -56.76789 -3.242...   \n",
       "2   MULTIPOLYGON (((-48.97548 -0.19834, -48.97487 ...   \n",
       "3   MULTIPOLYGON (((-51.04561 -0.05088, -51.05422 ...   \n",
       "4   POLYGON ((-48.2483 -13.19239, -48.24844 -13.19...   \n",
       "5   MULTIPOLYGON (((-44.5868 -2.23341, -44.58696 -...   \n",
       "6   POLYGON ((-42.47034 -3.48377, -42.46126 -3.484...   \n",
       "7   POLYGON ((-37.87162 -4.3664, -37.87109 -4.3670...   \n",
       "8   MULTIPOLYGON (((-35.18728 -5.78987, -35.18707 ...   \n",
       "9   MULTIPOLYGON (((-34.7958 -7.175, -34.79578 -7....   \n",
       "10  MULTIPOLYGON (((-35.04823 -8.60936, -35.04756 ...   \n",
       "11  MULTIPOLYGON (((-35.287 -9.14489, -35.28699 -9...   \n",
       "12  MULTIPOLYGON (((-37.01203 -10.92784, -37.01267...   \n",
       "13  MULTIPOLYGON (((-39.26447 -8.61413, -39.26341 ...   \n",
       "14  POLYGON ((-42.51148 -14.98627, -42.50964 -14.9...   \n",
       "15  MULTIPOLYGON (((-40.27883 -20.33437, -40.27883...   \n",
       "16  MULTIPOLYGON (((-42.00612 -22.88563, -42.00634...   \n",
       "17  MULTIPOLYGON (((-46.47312 -22.70498, -46.47289...   \n",
       "18  MULTIPOLYGON (((-48.30974 -25.49328, -48.27691...   \n",
       "19  MULTIPOLYGON (((-49.23653 -26.03711, -49.2365 ...   \n",
       "20  MULTIPOLYGON (((-51.71873 -31.85463, -51.71941...   \n",
       "21  POLYGON ((-54.68379 -23.8305, -54.68569 -23.83...   \n",
       "22  POLYGON ((-56.0716 -17.17062, -56.07246 -17.17...   \n",
       "23  POLYGON ((-47.33502 -15.58733, -47.33512 -15.5...   \n",
       "24  POLYGON ((-48.01472 -16.04996, -48.01573 -16.0...   \n",
       "25  POLYGON ((-62.60021 -13.01675, -62.59999 -13.0...   \n",
       "26  POLYGON ((-60.12972 4.50843, -60.1296 4.50826,...   \n",
       "\n",
       "                       centroid  \n",
       "0    POINT (-70.47293 -9.21327)  \n",
       "1    POINT (-64.65345 -4.15411)  \n",
       "2    POINT (-53.07149 -3.98042)  \n",
       "3     POINT (-51.96202 1.44746)  \n",
       "4    POINT (-48.3313 -10.14808)  \n",
       "5    POINT (-45.28777 -5.07221)  \n",
       "6     POINT (-42.97045 -7.3893)  \n",
       "7    POINT (-39.61579 -5.09322)  \n",
       "8     POINT (-36.67327 -5.8398)  \n",
       "9    POINT (-36.83246 -7.12104)  \n",
       "10   POINT (-37.99768 -8.32522)  \n",
       "11   POINT (-36.62485 -9.51367)  \n",
       "12  POINT (-37.44379 -10.58376)  \n",
       "13  POINT (-41.72116 -12.47533)  \n",
       "14  POINT (-44.67336 -18.45618)  \n",
       "15  POINT (-40.66851 -19.57518)  \n",
       "16  POINT (-42.66278 -22.19572)  \n",
       "17  POINT (-48.72896 -22.26584)  \n",
       "18  POINT (-51.61664 -24.63588)  \n",
       "19   POINT (-50.47471 -27.2474)  \n",
       "20  POINT (-53.24515 -29.78646)  \n",
       "21  POINT (-54.84556 -20.32733)  \n",
       "22  POINT (-55.91228 -12.94898)  \n",
       "23  POINT (-49.62251 -16.04119)  \n",
       "24  POINT (-47.79685 -15.78117)  \n",
       "25  POINT (-62.84196 -10.91314)  \n",
       "26    POINT (-61.39191 2.08271)  "
      ]
     },
     "execution_count": 63,
     "metadata": {},
     "output_type": "execute_result"
    }
   ],
   "source": [
    "gdf_joined = gdf.merge(df_sg, how=\"left\", on=\"SIGLA_UF\")\n",
    "gdf.head(30)"
   ]
  },
  {
   "cell_type": "code",
   "execution_count": 64,
   "metadata": {},
   "outputs": [
    {
     "data": {
      "image/png": "[encoded data removed]",
      "text/plain": [
       "<Figure size 1100x700 with 2 Axes>"
      ]
     },
     "metadata": {},
     "output_type": "display_data"
    }
   ],
   "source": [
    "# fig, ax = plt.subplots(1, 1, figsize=(15, 12))\n",
    "fig, ax = plt.subplots(1, 1, figsize=(11, 7))\n",
    "gdf_joined.plot(column=\"Count\", cmap='OrRd', linewidth=0.8, ax=ax, edgecolor='0.8', legend=True)\n",
    "\n",
    "for idx, row in gdf.iterrows():\n",
    "    ax.text(row[\"centroid\"].x, row[\"centroid\"].y, row[\"SIGLA_UF\"], fontsize=8, ha='center')\n",
    "plt.axis('off')\n",
    "plt.show()"
   ]
  },
  {
   "cell_type": "code",
   "execution_count": 65,
   "metadata": {},
   "outputs": [
    {
     "data": {
      "application/vnd.plotly.v1+json": {
       "config": {
        "plotlyServerURL": "https://plot.ly"
       },
       "data": [
        {
         "orientation": "h",
         "type": "bar",
         "x": [
          139,
          173,
          215,
          239,
          475,
          676,
          793,
          860,
          888,
          889,
          1020,
          1182,
          1445,
          2009,
          2015,
          2217,
          2271,
          2374,
          2576,
          2901,
          3045,
          3401,
          6677,
          7803,
          8763,
          9034,
          18158
         ],
         "y": [
          "AMAPÁ",
          "RORAIMA",
          "ACRE",
          "RONDÔNIA",
          "TOCANTINS",
          "ALAGOAS",
          "PIAUÍ",
          "AMAZONAS",
          "SERGIPE",
          "MARANHÃO",
          "MATO GROSSO",
          "MATO GROSSO DO SUL",
          "ESPÍRITO SANTO",
          "GOIÁS",
          "RIO GRANDE DO NORTE",
          "PARÁ",
          "PARAÍBA",
          "DISTRITO FEDERAL",
          "CEARÁ",
          "PERNAMBUCO",
          "BAHIA",
          "SANTA CATARINA",
          "PARANÁ",
          "RIO GRANDE DO SUL",
          "MINAS GERAIS",
          "RIO DE JANEIRO",
          "SÃO PAULO"
         ]
        }
       ],
       "layout": {
        "height": 580,
        "margin": {
         "b": 50,
         "t": 50
        },
        "template": {
         "data": {
          "bar": [
           {
            "error_x": {
             "color": "#2a3f5f"
            },
            "error_y": {
             "color": "#2a3f5f"
            },
            "marker": {
             "line": {
              "color": "#E5ECF6",
              "width": 0.5
             },
             "pattern": {
              "fillmode": "overlay",
              "size": 10,
              "solidity": 0.2
             }
            },
            "type": "bar"
           }
          ],
          "barpolar": [
           {
            "marker": {
             "line": {
              "color": "#E5ECF6",
              "width": 0.5
             },
             "pattern": {
              "fillmode": "overlay",
              "size": 10,
              "solidity": 0.2
             }
            },
            "type": "barpolar"
           }
          ],
          "carpet": [
           {
            "aaxis": {
             "endlinecolor": "#2a3f5f",
             "gridcolor": "white",
             "linecolor": "white",
             "minorgridcolor": "white",
             "startlinecolor": "#2a3f5f"
            },
            "baxis": {
             "endlinecolor": "#2a3f5f",
             "gridcolor": "white",
             "linecolor": "white",
             "minorgridcolor": "white",
             "startlinecolor": "#2a3f5f"
            },
            "type": "carpet"
           }
          ],
          "choropleth": [
           {
            "colorbar": {
             "outlinewidth": 0,
             "ticks": ""
            },
            "type": "choropleth"
           }
          ],
          "contour": [
           {
            "colorbar": {
             "outlinewidth": 0,
             "ticks": ""
            },
            "colorscale": [
             [
              0,
              "#0d0887"
             ],
             [
              0.1111111111111111,
              "#46039f"
             ],
             [
              0.2222222222222222,
              "#7201a8"
             ],
             [
              0.3333333333333333,
              "#9c179e"
             ],
             [
              0.4444444444444444,
              "#bd3786"
             ],
             [
              0.5555555555555556,
              "#d8576b"
             ],
             [
              0.6666666666666666,
              "#ed7953"
             ],
             [
              0.7777777777777778,
              "#fb9f3a"
             ],
             [
              0.8888888888888888,
              "#fdca26"
             ],
             [
              1,
              "#f0f921"
             ]
            ],
            "type": "contour"
           }
          ],
          "contourcarpet": [
           {
            "colorbar": {
             "outlinewidth": 0,
             "ticks": ""
            },
            "type": "contourcarpet"
           }
          ],
          "heatmap": [
           {
            "colorbar": {
             "outlinewidth": 0,
             "ticks": ""
            },
            "colorscale": [
             [
              0,
              "#0d0887"
             ],
             [
              0.1111111111111111,
              "#46039f"
             ],
             [
              0.2222222222222222,
              "#7201a8"
             ],
             [
              0.3333333333333333,
              "#9c179e"
             ],
             [
              0.4444444444444444,
              "#bd3786"
             ],
             [
              0.5555555555555556,
              "#d8576b"
             ],
             [
              0.6666666666666666,
              "#ed7953"
             ],
             [
              0.7777777777777778,
              "#fb9f3a"
             ],
             [
              0.8888888888888888,
              "#fdca26"
             ],
             [
              1,
              "#f0f921"
             ]
            ],
            "type": "heatmap"
           }
          ],
          "heatmapgl": [
           {
            "colorbar": {
             "outlinewidth": 0,
             "ticks": ""
            },
            "colorscale": [
             [
              0,
              "#0d0887"
             ],
             [
              0.1111111111111111,
              "#46039f"
             ],
             [
              0.2222222222222222,
              "#7201a8"
             ],
             [
              0.3333333333333333,
              "#9c179e"
             ],
             [
              0.4444444444444444,
              "#bd3786"
             ],
             [
              0.5555555555555556,
              "#d8576b"
             ],
             [
              0.6666666666666666,
              "#ed7953"
             ],
             [
              0.7777777777777778,
              "#fb9f3a"
             ],
             [
              0.8888888888888888,
              "#fdca26"
             ],
             [
              1,
              "#f0f921"
             ]
            ],
            "type": "heatmapgl"
           }
          ],
          "histogram": [
           {
            "marker": {
             "pattern": {
              "fillmode": "overlay",
              "size": 10,
              "solidity": 0.2
             }
            },
            "type": "histogram"
           }
          ],
          "histogram2d": [
           {
            "colorbar": {
             "outlinewidth": 0,
             "ticks": ""
            },
            "colorscale": [
             [
              0,
              "#0d0887"
             ],
             [
              0.1111111111111111,
              "#46039f"
             ],
             [
              0.2222222222222222,
              "#7201a8"
             ],
             [
              0.3333333333333333,
              "#9c179e"
             ],
             [
              0.4444444444444444,
              "#bd3786"
             ],
             [
              0.5555555555555556,
              "#d8576b"
             ],
             [
              0.6666666666666666,
              "#ed7953"
             ],
             [
              0.7777777777777778,
              "#fb9f3a"
             ],
             [
              0.8888888888888888,
              "#fdca26"
             ],
             [
              1,
              "#f0f921"
             ]
            ],
            "type": "histogram2d"
           }
          ],
          "histogram2dcontour": [
           {
            "colorbar": {
             "outlinewidth": 0,
             "ticks": ""
            },
            "colorscale": [
             [
              0,
              "#0d0887"
             ],
             [
              0.1111111111111111,
              "#46039f"
             ],
             [
              0.2222222222222222,
              "#7201a8"
             ],
             [
              0.3333333333333333,
              "#9c179e"
             ],
             [
              0.4444444444444444,
              "#bd3786"
             ],
             [
              0.5555555555555556,
              "#d8576b"
             ],
             [
              0.6666666666666666,
              "#ed7953"
             ],
             [
              0.7777777777777778,
              "#fb9f3a"
             ],
             [
              0.8888888888888888,
              "#fdca26"
             ],
             [
              1,
              "#f0f921"
             ]
            ],
            "type": "histogram2dcontour"
           }
          ],
          "mesh3d": [
           {
            "colorbar": {
             "outlinewidth": 0,
             "ticks": ""
            },
            "type": "mesh3d"
           }
          ],
          "parcoords": [
           {
            "line": {
             "colorbar": {
              "outlinewidth": 0,
              "ticks": ""
             }
            },
            "type": "parcoords"
           }
          ],
          "pie": [
           {
            "automargin": true,
            "type": "pie"
           }
          ],
          "scatter": [
           {
            "fillpattern": {
             "fillmode": "overlay",
             "size": 10,
             "solidity": 0.2
            },
            "type": "scatter"
           }
          ],
          "scatter3d": [
           {
            "line": {
             "colorbar": {
              "outlinewidth": 0,
              "ticks": ""
             }
            },
            "marker": {
             "colorbar": {
              "outlinewidth": 0,
              "ticks": ""
             }
            },
            "type": "scatter3d"
           }
          ],
          "scattercarpet": [
           {
            "marker": {
             "colorbar": {
              "outlinewidth": 0,
              "ticks": ""
             }
            },
            "type": "scattercarpet"
           }
          ],
          "scattergeo": [
           {
            "marker": {
             "colorbar": {
              "outlinewidth": 0,
              "ticks": ""
             }
            },
            "type": "scattergeo"
           }
          ],
          "scattergl": [
           {
            "marker": {
             "colorbar": {
              "outlinewidth": 0,
              "ticks": ""
             }
            },
            "type": "scattergl"
           }
          ],
          "scattermapbox": [
           {
            "marker": {
             "colorbar": {
              "outlinewidth": 0,
              "ticks": ""
             }
            },
            "type": "scattermapbox"
           }
          ],
          "scatterpolar": [
           {
            "marker": {
             "colorbar": {
              "outlinewidth": 0,
              "ticks": ""
             }
            },
            "type": "scatterpolar"
           }
          ],
          "scatterpolargl": [
           {
            "marker": {
             "colorbar": {
              "outlinewidth": 0,
              "ticks": ""
             }
            },
            "type": "scatterpolargl"
           }
          ],
          "scatterternary": [
           {
            "marker": {
             "colorbar": {
              "outlinewidth": 0,
              "ticks": ""
             }
            },
            "type": "scatterternary"
           }
          ],
          "surface": [
           {
            "colorbar": {
             "outlinewidth": 0,
             "ticks": ""
            },
            "colorscale": [
             [
              0,
              "#0d0887"
             ],
             [
              0.1111111111111111,
              "#46039f"
             ],
             [
              0.2222222222222222,
              "#7201a8"
             ],
             [
              0.3333333333333333,
              "#9c179e"
             ],
             [
              0.4444444444444444,
              "#bd3786"
             ],
             [
              0.5555555555555556,
              "#d8576b"
             ],
             [
              0.6666666666666666,
              "#ed7953"
             ],
             [
              0.7777777777777778,
              "#fb9f3a"
             ],
             [
              0.8888888888888888,
              "#fdca26"
             ],
             [
              1,
              "#f0f921"
             ]
            ],
            "type": "surface"
           }
          ],
          "table": [
           {
            "cells": {
             "fill": {
              "color": "#EBF0F8"
             },
             "line": {
              "color": "white"
             }
            },
            "header": {
             "fill": {
              "color": "#C8D4E3"
             },
             "line": {
              "color": "white"
             }
            },
            "type": "table"
           }
          ]
         },
         "layout": {
          "annotationdefaults": {
           "arrowcolor": "#2a3f5f",
           "arrowhead": 0,
           "arrowwidth": 1
          },
          "autotypenumbers": "strict",
          "coloraxis": {
           "colorbar": {
            "outlinewidth": 0,
            "ticks": ""
           }
          },
          "colorscale": {
           "diverging": [
            [
             0,
             "#8e0152"
            ],
            [
             0.1,
             "#c51b7d"
            ],
            [
             0.2,
             "#de77ae"
            ],
            [
             0.3,
             "#f1b6da"
            ],
            [
             0.4,
             "#fde0ef"
            ],
            [
             0.5,
             "#f7f7f7"
            ],
            [
             0.6,
             "#e6f5d0"
            ],
            [
             0.7,
             "#b8e186"
            ],
            [
             0.8,
             "#7fbc41"
            ],
            [
             0.9,
             "#4d9221"
            ],
            [
             1,
             "#276419"
            ]
           ],
           "sequential": [
            [
             0,
             "#0d0887"
            ],
            [
             0.1111111111111111,
             "#46039f"
            ],
            [
             0.2222222222222222,
             "#7201a8"
            ],
            [
             0.3333333333333333,
             "#9c179e"
            ],
            [
             0.4444444444444444,
             "#bd3786"
            ],
            [
             0.5555555555555556,
             "#d8576b"
            ],
            [
             0.6666666666666666,
             "#ed7953"
            ],
            [
             0.7777777777777778,
             "#fb9f3a"
            ],
            [
             0.8888888888888888,
             "#fdca26"
            ],
            [
             1,
             "#f0f921"
            ]
           ],
           "sequentialminus": [
            [
             0,
             "#0d0887"
            ],
            [
             0.1111111111111111,
             "#46039f"
            ],
            [
             0.2222222222222222,
             "#7201a8"
            ],
            [
             0.3333333333333333,
             "#9c179e"
            ],
            [
             0.4444444444444444,
             "#bd3786"
            ],
            [
             0.5555555555555556,
             "#d8576b"
            ],
            [
             0.6666666666666666,
             "#ed7953"
            ],
            [
             0.7777777777777778,
             "#fb9f3a"
            ],
            [
             0.8888888888888888,
             "#fdca26"
            ],
            [
             1,
             "#f0f921"
            ]
           ]
          },
          "colorway": [
           "#636efa",
           "#EF553B",
           "#00cc96",
           "#ab63fa",
           "#FFA15A",
           "#19d3f3",
           "#FF6692",
           "#B6E880",
           "#FF97FF",
           "#FECB52"
          ],
          "font": {
           "color": "#2a3f5f"
          },
          "geo": {
           "bgcolor": "white",
           "lakecolor": "white",
           "landcolor": "#E5ECF6",
           "showlakes": true,
           "showland": true,
           "subunitcolor": "white"
          },
          "hoverlabel": {
           "align": "left"
          },
          "hovermode": "closest",
          "mapbox": {
           "style": "light"
          },
          "paper_bgcolor": "white",
          "plot_bgcolor": "#E5ECF6",
          "polar": {
           "angularaxis": {
            "gridcolor": "white",
            "linecolor": "white",
            "ticks": ""
           },
           "bgcolor": "#E5ECF6",
           "radialaxis": {
            "gridcolor": "white",
            "linecolor": "white",
            "ticks": ""
           }
          },
          "scene": {
           "xaxis": {
            "backgroundcolor": "#E5ECF6",
            "gridcolor": "white",
            "gridwidth": 2,
            "linecolor": "white",
            "showbackground": true,
            "ticks": "",
            "zerolinecolor": "white"
           },
           "yaxis": {
            "backgroundcolor": "#E5ECF6",
            "gridcolor": "white",
            "gridwidth": 2,
            "linecolor": "white",
            "showbackground": true,
            "ticks": "",
            "zerolinecolor": "white"
           },
           "zaxis": {
            "backgroundcolor": "#E5ECF6",
            "gridcolor": "white",
            "gridwidth": 2,
            "linecolor": "white",
            "showbackground": true,
            "ticks": "",
            "zerolinecolor": "white"
           }
          },
          "shapedefaults": {
           "line": {
            "color": "#2a3f5f"
           }
          },
          "ternary": {
           "aaxis": {
            "gridcolor": "white",
            "linecolor": "white",
            "ticks": ""
           },
           "baxis": {
            "gridcolor": "white",
            "linecolor": "white",
            "ticks": ""
           },
           "bgcolor": "#E5ECF6",
           "caxis": {
            "gridcolor": "white",
            "linecolor": "white",
            "ticks": ""
           }
          },
          "title": {
           "x": 0.05
          },
          "xaxis": {
           "automargin": true,
           "gridcolor": "white",
           "linecolor": "white",
           "ticks": "",
           "title": {
            "standoff": 15
           },
           "zerolinecolor": "white",
           "zerolinewidth": 2
          },
          "yaxis": {
           "automargin": true,
           "gridcolor": "white",
           "linecolor": "white",
           "ticks": "",
           "title": {
            "standoff": 15
           },
           "zerolinecolor": "white",
           "zerolinewidth": 2
          }
         }
        },
        "title": {
         "text": "Distribuição de trabalhos por estado"
        },
        "xaxis": {
         "title": {
          "text": "Estado"
         }
        },
        "yaxis": {
         "title": {
          "text": "Número de trabalhos"
         }
        }
       }
      }
     },
     "metadata": {},
     "output_type": "display_data"
    }
   ],
   "source": [
    "bar_height=20\n",
    "margin_height=40\n",
    "chart_height=(bar_height*len(df_grouped['Estados'])) + margin_height\n",
    "\n",
    "df_grouped_sorted = df_grouped.sort_values(by='Count')\n",
    "\n",
    "fig = go.Figure(go.Bar(\n",
    "    x= df_grouped_sorted['Count'],\n",
    "    y=df_grouped_sorted['Estados'],\n",
    "    orientation='h'\n",
    "))\n",
    "\n",
    "fig.update_layout(\n",
    "    title='Distribuição de trabalhos por estado',\n",
    "    xaxis_title='Estado',\n",
    "    yaxis_title='Número de trabalhos',\n",
    "    height= chart_height,\n",
    "    margin=dict(t=50,b=50)\n",
    ")\n",
    "\n",
    "fig.show()"
   ]
  },
  {
   "cell_type": "markdown",
   "metadata": {},
   "source": [
    "### Distribuição por área de conhecimento"
   ]
  },
  {
   "cell_type": "code",
   "execution_count": 66,
   "metadata": {},
   "outputs": [],
   "source": [
    "df_grouped_areas_con=df.groupby('NM_GRANDE_AREA_CONHECIMENTO').size()"
   ]
  },
  {
   "cell_type": "code",
   "execution_count": 67,
   "metadata": {},
   "outputs": [
    {
     "data": {
      "text/plain": [
       "NM_GRANDE_AREA_CONHECIMENTO\n",
       "CIÊNCIAS AGRÁRIAS              7139\n",
       "CIÊNCIAS BIOLÓGICAS            4335\n",
       "CIÊNCIAS DA SAÚDE             12563\n",
       "CIÊNCIAS EXATAS E DA TERRA     6442\n",
       "CIÊNCIAS HUMANAS              14011\n",
       "dtype: int64"
      ]
     },
     "execution_count": 67,
     "metadata": {},
     "output_type": "execute_result"
    }
   ],
   "source": [
    "df_grouped_areas_con.head()"
   ]
  },
  {
   "cell_type": "code",
   "execution_count": 68,
   "metadata": {},
   "outputs": [],
   "source": [
    "df_grouped_areas_con= df_grouped_areas_con.reset_index()\n",
    "df_grouped_areas_con.columns= ['Area_conhecimento', 'Count']"
   ]
  },
  {
   "cell_type": "code",
   "execution_count": 69,
   "metadata": {},
   "outputs": [
    {
     "data": {
      "text/html": [
       "<div>\n",
       "<style scoped>\n",
       "    .dataframe tbody tr th:only-of-type {\n",
       "        vertical-align: middle;\n",
       "    }\n",
       "\n",
       "    .dataframe tbody tr th {\n",
       "        vertical-align: top;\n",
       "    }\n",
       "\n",
       "    .dataframe thead th {\n",
       "        text-align: right;\n",
       "    }\n",
       "</style>\n",
       "<table border=\"1\" class=\"dataframe\">\n",
       "  <thead>\n",
       "    <tr style=\"text-align: right;\">\n",
       "      <th></th>\n",
       "      <th>Area_conhecimento</th>\n",
       "      <th>Count</th>\n",
       "    </tr>\n",
       "  </thead>\n",
       "  <tbody>\n",
       "    <tr>\n",
       "      <th>0</th>\n",
       "      <td>CIÊNCIAS AGRÁRIAS</td>\n",
       "      <td>7139</td>\n",
       "    </tr>\n",
       "    <tr>\n",
       "      <th>1</th>\n",
       "      <td>CIÊNCIAS BIOLÓGICAS</td>\n",
       "      <td>4335</td>\n",
       "    </tr>\n",
       "    <tr>\n",
       "      <th>2</th>\n",
       "      <td>CIÊNCIAS DA SAÚDE</td>\n",
       "      <td>12563</td>\n",
       "    </tr>\n",
       "    <tr>\n",
       "      <th>3</th>\n",
       "      <td>CIÊNCIAS EXATAS E DA TERRA</td>\n",
       "      <td>6442</td>\n",
       "    </tr>\n",
       "    <tr>\n",
       "      <th>4</th>\n",
       "      <td>CIÊNCIAS HUMANAS</td>\n",
       "      <td>14011</td>\n",
       "    </tr>\n",
       "  </tbody>\n",
       "</table>\n",
       "</div>"
      ],
      "text/plain": [
       "            Area_conhecimento  Count\n",
       "0           CIÊNCIAS AGRÁRIAS   7139\n",
       "1         CIÊNCIAS BIOLÓGICAS   4335\n",
       "2           CIÊNCIAS DA SAÚDE  12563\n",
       "3  CIÊNCIAS EXATAS E DA TERRA   6442\n",
       "4            CIÊNCIAS HUMANAS  14011"
      ]
     },
     "execution_count": 69,
     "metadata": {},
     "output_type": "execute_result"
    }
   ],
   "source": [
    "df_grouped_areas_con.head()"
   ]
  },
  {
   "cell_type": "code",
   "execution_count": 70,
   "metadata": {},
   "outputs": [
    {
     "data": {
      "application/vnd.plotly.v1+json": {
       "config": {
        "plotlyServerURL": "https://plot.ly"
       },
       "data": [
        {
         "alignmentgroup": "True",
         "hovertemplate": "Area_conhecimento=%{x}<br>Count=%{y}<extra></extra>",
         "legendgroup": "",
         "marker": {
          "color": "#636efa",
          "pattern": {
           "shape": ""
          }
         },
         "name": "",
         "offsetgroup": "",
         "orientation": "v",
         "showlegend": false,
         "textposition": "auto",
         "type": "bar",
         "x": [
          "CIÊNCIAS HUMANAS",
          "CIÊNCIAS DA SAÚDE",
          "MULTIDISCIPLINAR",
          "CIÊNCIAS SOCIAIS APLICADAS",
          "ENGENHARIAS",
          "CIÊNCIAS AGRÁRIAS",
          "CIÊNCIAS EXATAS E DA TERRA",
          "LINGÜÍSTICA, LETRAS E ARTES",
          "CIÊNCIAS BIOLÓGICAS"
         ],
         "xaxis": "x",
         "y": [
          14011,
          12563,
          12411,
          12377,
          7580,
          7139,
          6442,
          5380,
          4335
         ],
         "yaxis": "y"
        }
       ],
       "layout": {
        "barmode": "relative",
        "height": 500,
        "legend": {
         "tracegroupgap": 0
        },
        "template": {
         "data": {
          "bar": [
           {
            "error_x": {
             "color": "#2a3f5f"
            },
            "error_y": {
             "color": "#2a3f5f"
            },
            "marker": {
             "line": {
              "color": "#E5ECF6",
              "width": 0.5
             },
             "pattern": {
              "fillmode": "overlay",
              "size": 10,
              "solidity": 0.2
             }
            },
            "type": "bar"
           }
          ],
          "barpolar": [
           {
            "marker": {
             "line": {
              "color": "#E5ECF6",
              "width": 0.5
             },
             "pattern": {
              "fillmode": "overlay",
              "size": 10,
              "solidity": 0.2
             }
            },
            "type": "barpolar"
           }
          ],
          "carpet": [
           {
            "aaxis": {
             "endlinecolor": "#2a3f5f",
             "gridcolor": "white",
             "linecolor": "white",
             "minorgridcolor": "white",
             "startlinecolor": "#2a3f5f"
            },
            "baxis": {
             "endlinecolor": "#2a3f5f",
             "gridcolor": "white",
             "linecolor": "white",
             "minorgridcolor": "white",
             "startlinecolor": "#2a3f5f"
            },
            "type": "carpet"
           }
          ],
          "choropleth": [
           {
            "colorbar": {
             "outlinewidth": 0,
             "ticks": ""
            },
            "type": "choropleth"
           }
          ],
          "contour": [
           {
            "colorbar": {
             "outlinewidth": 0,
             "ticks": ""
            },
            "colorscale": [
             [
              0,
              "#0d0887"
             ],
             [
              0.1111111111111111,
              "#46039f"
             ],
             [
              0.2222222222222222,
              "#7201a8"
             ],
             [
              0.3333333333333333,
              "#9c179e"
             ],
             [
              0.4444444444444444,
              "#bd3786"
             ],
             [
              0.5555555555555556,
              "#d8576b"
             ],
             [
              0.6666666666666666,
              "#ed7953"
             ],
             [
              0.7777777777777778,
              "#fb9f3a"
             ],
             [
              0.8888888888888888,
              "#fdca26"
             ],
             [
              1,
              "#f0f921"
             ]
            ],
            "type": "contour"
           }
          ],
          "contourcarpet": [
           {
            "colorbar": {
             "outlinewidth": 0,
             "ticks": ""
            },
            "type": "contourcarpet"
           }
          ],
          "heatmap": [
           {
            "colorbar": {
             "outlinewidth": 0,
             "ticks": ""
            },
            "colorscale": [
             [
              0,
              "#0d0887"
             ],
             [
              0.1111111111111111,
              "#46039f"
             ],
             [
              0.2222222222222222,
              "#7201a8"
             ],
             [
              0.3333333333333333,
              "#9c179e"
             ],
             [
              0.4444444444444444,
              "#bd3786"
             ],
             [
              0.5555555555555556,
              "#d8576b"
             ],
             [
              0.6666666666666666,
              "#ed7953"
             ],
             [
              0.7777777777777778,
              "#fb9f3a"
             ],
             [
              0.8888888888888888,
              "#fdca26"
             ],
             [
              1,
              "#f0f921"
             ]
            ],
            "type": "heatmap"
           }
          ],
          "heatmapgl": [
           {
            "colorbar": {
             "outlinewidth": 0,
             "ticks": ""
            },
            "colorscale": [
             [
              0,
              "#0d0887"
             ],
             [
              0.1111111111111111,
              "#46039f"
             ],
             [
              0.2222222222222222,
              "#7201a8"
             ],
             [
              0.3333333333333333,
              "#9c179e"
             ],
             [
              0.4444444444444444,
              "#bd3786"
             ],
             [
              0.5555555555555556,
              "#d8576b"
             ],
             [
              0.6666666666666666,
              "#ed7953"
             ],
             [
              0.7777777777777778,
              "#fb9f3a"
             ],
             [
              0.8888888888888888,
              "#fdca26"
             ],
             [
              1,
              "#f0f921"
             ]
            ],
            "type": "heatmapgl"
           }
          ],
          "histogram": [
           {
            "marker": {
             "pattern": {
              "fillmode": "overlay",
              "size": 10,
              "solidity": 0.2
             }
            },
            "type": "histogram"
           }
          ],
          "histogram2d": [
           {
            "colorbar": {
             "outlinewidth": 0,
             "ticks": ""
            },
            "colorscale": [
             [
              0,
              "#0d0887"
             ],
             [
              0.1111111111111111,
              "#46039f"
             ],
             [
              0.2222222222222222,
              "#7201a8"
             ],
             [
              0.3333333333333333,
              "#9c179e"
             ],
             [
              0.4444444444444444,
              "#bd3786"
             ],
             [
              0.5555555555555556,
              "#d8576b"
             ],
             [
              0.6666666666666666,
              "#ed7953"
             ],
             [
              0.7777777777777778,
              "#fb9f3a"
             ],
             [
              0.8888888888888888,
              "#fdca26"
             ],
             [
              1,
              "#f0f921"
             ]
            ],
            "type": "histogram2d"
           }
          ],
          "histogram2dcontour": [
           {
            "colorbar": {
             "outlinewidth": 0,
             "ticks": ""
            },
            "colorscale": [
             [
              0,
              "#0d0887"
             ],
             [
              0.1111111111111111,
              "#46039f"
             ],
             [
              0.2222222222222222,
              "#7201a8"
             ],
             [
              0.3333333333333333,
              "#9c179e"
             ],
             [
              0.4444444444444444,
              "#bd3786"
             ],
             [
              0.5555555555555556,
              "#d8576b"
             ],
             [
              0.6666666666666666,
              "#ed7953"
             ],
             [
              0.7777777777777778,
              "#fb9f3a"
             ],
             [
              0.8888888888888888,
              "#fdca26"
             ],
             [
              1,
              "#f0f921"
             ]
            ],
            "type": "histogram2dcontour"
           }
          ],
          "mesh3d": [
           {
            "colorbar": {
             "outlinewidth": 0,
             "ticks": ""
            },
            "type": "mesh3d"
           }
          ],
          "parcoords": [
           {
            "line": {
             "colorbar": {
              "outlinewidth": 0,
              "ticks": ""
             }
            },
            "type": "parcoords"
           }
          ],
          "pie": [
           {
            "automargin": true,
            "type": "pie"
           }
          ],
          "scatter": [
           {
            "fillpattern": {
             "fillmode": "overlay",
             "size": 10,
             "solidity": 0.2
            },
            "type": "scatter"
           }
          ],
          "scatter3d": [
           {
            "line": {
             "colorbar": {
              "outlinewidth": 0,
              "ticks": ""
             }
            },
            "marker": {
             "colorbar": {
              "outlinewidth": 0,
              "ticks": ""
             }
            },
            "type": "scatter3d"
           }
          ],
          "scattercarpet": [
           {
            "marker": {
             "colorbar": {
              "outlinewidth": 0,
              "ticks": ""
             }
            },
            "type": "scattercarpet"
           }
          ],
          "scattergeo": [
           {
            "marker": {
             "colorbar": {
              "outlinewidth": 0,
              "ticks": ""
             }
            },
            "type": "scattergeo"
           }
          ],
          "scattergl": [
           {
            "marker": {
             "colorbar": {
              "outlinewidth": 0,
              "ticks": ""
             }
            },
            "type": "scattergl"
           }
          ],
          "scattermapbox": [
           {
            "marker": {
             "colorbar": {
              "outlinewidth": 0,
              "ticks": ""
             }
            },
            "type": "scattermapbox"
           }
          ],
          "scatterpolar": [
           {
            "marker": {
             "colorbar": {
              "outlinewidth": 0,
              "ticks": ""
             }
            },
            "type": "scatterpolar"
           }
          ],
          "scatterpolargl": [
           {
            "marker": {
             "colorbar": {
              "outlinewidth": 0,
              "ticks": ""
             }
            },
            "type": "scatterpolargl"
           }
          ],
          "scatterternary": [
           {
            "marker": {
             "colorbar": {
              "outlinewidth": 0,
              "ticks": ""
             }
            },
            "type": "scatterternary"
           }
          ],
          "surface": [
           {
            "colorbar": {
             "outlinewidth": 0,
             "ticks": ""
            },
            "colorscale": [
             [
              0,
              "#0d0887"
             ],
             [
              0.1111111111111111,
              "#46039f"
             ],
             [
              0.2222222222222222,
              "#7201a8"
             ],
             [
              0.3333333333333333,
              "#9c179e"
             ],
             [
              0.4444444444444444,
              "#bd3786"
             ],
             [
              0.5555555555555556,
              "#d8576b"
             ],
             [
              0.6666666666666666,
              "#ed7953"
             ],
             [
              0.7777777777777778,
              "#fb9f3a"
             ],
             [
              0.8888888888888888,
              "#fdca26"
             ],
             [
              1,
              "#f0f921"
             ]
            ],
            "type": "surface"
           }
          ],
          "table": [
           {
            "cells": {
             "fill": {
              "color": "#EBF0F8"
             },
             "line": {
              "color": "white"
             }
            },
            "header": {
             "fill": {
              "color": "#C8D4E3"
             },
             "line": {
              "color": "white"
             }
            },
            "type": "table"
           }
          ]
         },
         "layout": {
          "annotationdefaults": {
           "arrowcolor": "#2a3f5f",
           "arrowhead": 0,
           "arrowwidth": 1
          },
          "autotypenumbers": "strict",
          "coloraxis": {
           "colorbar": {
            "outlinewidth": 0,
            "ticks": ""
           }
          },
          "colorscale": {
           "diverging": [
            [
             0,
             "#8e0152"
            ],
            [
             0.1,
             "#c51b7d"
            ],
            [
             0.2,
             "#de77ae"
            ],
            [
             0.3,
             "#f1b6da"
            ],
            [
             0.4,
             "#fde0ef"
            ],
            [
             0.5,
             "#f7f7f7"
            ],
            [
             0.6,
             "#e6f5d0"
            ],
            [
             0.7,
             "#b8e186"
            ],
            [
             0.8,
             "#7fbc41"
            ],
            [
             0.9,
             "#4d9221"
            ],
            [
             1,
             "#276419"
            ]
           ],
           "sequential": [
            [
             0,
             "#0d0887"
            ],
            [
             0.1111111111111111,
             "#46039f"
            ],
            [
             0.2222222222222222,
             "#7201a8"
            ],
            [
             0.3333333333333333,
             "#9c179e"
            ],
            [
             0.4444444444444444,
             "#bd3786"
            ],
            [
             0.5555555555555556,
             "#d8576b"
            ],
            [
             0.6666666666666666,
             "#ed7953"
            ],
            [
             0.7777777777777778,
             "#fb9f3a"
            ],
            [
             0.8888888888888888,
             "#fdca26"
            ],
            [
             1,
             "#f0f921"
            ]
           ],
           "sequentialminus": [
            [
             0,
             "#0d0887"
            ],
            [
             0.1111111111111111,
             "#46039f"
            ],
            [
             0.2222222222222222,
             "#7201a8"
            ],
            [
             0.3333333333333333,
             "#9c179e"
            ],
            [
             0.4444444444444444,
             "#bd3786"
            ],
            [
             0.5555555555555556,
             "#d8576b"
            ],
            [
             0.6666666666666666,
             "#ed7953"
            ],
            [
             0.7777777777777778,
             "#fb9f3a"
            ],
            [
             0.8888888888888888,
             "#fdca26"
            ],
            [
             1,
             "#f0f921"
            ]
           ]
          },
          "colorway": [
           "#636efa",
           "#EF553B",
           "#00cc96",
           "#ab63fa",
           "#FFA15A",
           "#19d3f3",
           "#FF6692",
           "#B6E880",
           "#FF97FF",
           "#FECB52"
          ],
          "font": {
           "color": "#2a3f5f"
          },
          "geo": {
           "bgcolor": "white",
           "lakecolor": "white",
           "landcolor": "#E5ECF6",
           "showlakes": true,
           "showland": true,
           "subunitcolor": "white"
          },
          "hoverlabel": {
           "align": "left"
          },
          "hovermode": "closest",
          "mapbox": {
           "style": "light"
          },
          "paper_bgcolor": "white",
          "plot_bgcolor": "#E5ECF6",
          "polar": {
           "angularaxis": {
            "gridcolor": "white",
            "linecolor": "white",
            "ticks": ""
           },
           "bgcolor": "#E5ECF6",
           "radialaxis": {
            "gridcolor": "white",
            "linecolor": "white",
            "ticks": ""
           }
          },
          "scene": {
           "xaxis": {
            "backgroundcolor": "#E5ECF6",
            "gridcolor": "white",
            "gridwidth": 2,
            "linecolor": "white",
            "showbackground": true,
            "ticks": "",
            "zerolinecolor": "white"
           },
           "yaxis": {
            "backgroundcolor": "#E5ECF6",
            "gridcolor": "white",
            "gridwidth": 2,
            "linecolor": "white",
            "showbackground": true,
            "ticks": "",
            "zerolinecolor": "white"
           },
           "zaxis": {
            "backgroundcolor": "#E5ECF6",
            "gridcolor": "white",
            "gridwidth": 2,
            "linecolor": "white",
            "showbackground": true,
            "ticks": "",
            "zerolinecolor": "white"
           }
          },
          "shapedefaults": {
           "line": {
            "color": "#2a3f5f"
           }
          },
          "ternary": {
           "aaxis": {
            "gridcolor": "white",
            "linecolor": "white",
            "ticks": ""
           },
           "baxis": {
            "gridcolor": "white",
            "linecolor": "white",
            "ticks": ""
           },
           "bgcolor": "#E5ECF6",
           "caxis": {
            "gridcolor": "white",
            "linecolor": "white",
            "ticks": ""
           }
          },
          "title": {
           "x": 0.05
          },
          "xaxis": {
           "automargin": true,
           "gridcolor": "white",
           "linecolor": "white",
           "ticks": "",
           "title": {
            "standoff": 15
           },
           "zerolinecolor": "white",
           "zerolinewidth": 2
          },
          "yaxis": {
           "automargin": true,
           "gridcolor": "white",
           "linecolor": "white",
           "ticks": "",
           "title": {
            "standoff": 15
           },
           "zerolinecolor": "white",
           "zerolinewidth": 2
          }
         }
        },
        "title": {
         "text": "Distribuição de trabalhos pelas áreas de conhecimento"
        },
        "width": 800,
        "xaxis": {
         "anchor": "y",
         "domain": [
          0,
          1
         ],
         "title": {
          "text": "Area_conhecimento"
         }
        },
        "yaxis": {
         "anchor": "x",
         "domain": [
          0,
          1
         ],
         "title": {
          "text": "Número de trabalhos"
         }
        }
       }
      }
     },
     "metadata": {},
     "output_type": "display_data"
    }
   ],
   "source": [
    "fig = px.bar(df_grouped_areas_con.sort_values(by='Count', ascending=False), x='Area_conhecimento', y='Count', title='Distribuição de trabalhos pelas áreas de conhecimento')\n",
    "fig.update_layout(yaxis_title='Número de trabalhos', xaxis_title='Area_conhecimento', \n",
    "                  width=800,  # Set desired width\n",
    "                  height=500) \n",
    "\n",
    "fig.show()"
   ]
  },
  {
   "cell_type": "code",
   "execution_count": null,
   "metadata": {},
   "outputs": [],
   "source": []
  },
  {
   "cell_type": "code",
   "execution_count": 71,
   "metadata": {},
   "outputs": [
    {
     "data": {
      "application/vnd.plotly.v1+json": {
       "config": {
        "plotlyServerURL": "https://plot.ly"
       },
       "data": [
        {
         "hole": 0.4,
         "labels": [
          "CIÊNCIAS AGRÁRIAS",
          "CIÊNCIAS BIOLÓGICAS",
          "CIÊNCIAS DA SAÚDE",
          "CIÊNCIAS EXATAS E DA TERRA",
          "CIÊNCIAS HUMANAS",
          "CIÊNCIAS SOCIAIS APLICADAS",
          "ENGENHARIAS",
          "LINGÜÍSTICA, LETRAS E ARTES",
          "MULTIDISCIPLINAR"
         ],
         "marker": {
          "colors": [
           "rgb(102, 197, 204)",
           "rgb(246, 207, 113)",
           "rgb(248, 156, 116)",
           "rgb(220, 176, 242)",
           "rgb(135, 197, 95)",
           "rgb(158, 185, 243)",
           "rgb(254, 136, 177)",
           "rgb(201, 219, 116)",
           "rgb(139, 224, 164)",
           "rgb(180, 151, 231)",
           "rgb(179, 179, 179)"
          ]
         },
         "type": "pie",
         "values": [
          7139,
          4335,
          12563,
          6442,
          14011,
          12377,
          7580,
          5380,
          12411
         ]
        }
       ],
       "layout": {
        "template": {
         "data": {
          "bar": [
           {
            "error_x": {
             "color": "#2a3f5f"
            },
            "error_y": {
             "color": "#2a3f5f"
            },
            "marker": {
             "line": {
              "color": "#E5ECF6",
              "width": 0.5
             },
             "pattern": {
              "fillmode": "overlay",
              "size": 10,
              "solidity": 0.2
             }
            },
            "type": "bar"
           }
          ],
          "barpolar": [
           {
            "marker": {
             "line": {
              "color": "#E5ECF6",
              "width": 0.5
             },
             "pattern": {
              "fillmode": "overlay",
              "size": 10,
              "solidity": 0.2
             }
            },
            "type": "barpolar"
           }
          ],
          "carpet": [
           {
            "aaxis": {
             "endlinecolor": "#2a3f5f",
             "gridcolor": "white",
             "linecolor": "white",
             "minorgridcolor": "white",
             "startlinecolor": "#2a3f5f"
            },
            "baxis": {
             "endlinecolor": "#2a3f5f",
             "gridcolor": "white",
             "linecolor": "white",
             "minorgridcolor": "white",
             "startlinecolor": "#2a3f5f"
            },
            "type": "carpet"
           }
          ],
          "choropleth": [
           {
            "colorbar": {
             "outlinewidth": 0,
             "ticks": ""
            },
            "type": "choropleth"
           }
          ],
          "contour": [
           {
            "colorbar": {
             "outlinewidth": 0,
             "ticks": ""
            },
            "colorscale": [
             [
              0,
              "#0d0887"
             ],
             [
              0.1111111111111111,
              "#46039f"
             ],
             [
              0.2222222222222222,
              "#7201a8"
             ],
             [
              0.3333333333333333,
              "#9c179e"
             ],
             [
              0.4444444444444444,
              "#bd3786"
             ],
             [
              0.5555555555555556,
              "#d8576b"
             ],
             [
              0.6666666666666666,
              "#ed7953"
             ],
             [
              0.7777777777777778,
              "#fb9f3a"
             ],
             [
              0.8888888888888888,
              "#fdca26"
             ],
             [
              1,
              "#f0f921"
             ]
            ],
            "type": "contour"
           }
          ],
          "contourcarpet": [
           {
            "colorbar": {
             "outlinewidth": 0,
             "ticks": ""
            },
            "type": "contourcarpet"
           }
          ],
          "heatmap": [
           {
            "colorbar": {
             "outlinewidth": 0,
             "ticks": ""
            },
            "colorscale": [
             [
              0,
              "#0d0887"
             ],
             [
              0.1111111111111111,
              "#46039f"
             ],
             [
              0.2222222222222222,
              "#7201a8"
             ],
             [
              0.3333333333333333,
              "#9c179e"
             ],
             [
              0.4444444444444444,
              "#bd3786"
             ],
             [
              0.5555555555555556,
              "#d8576b"
             ],
             [
              0.6666666666666666,
              "#ed7953"
             ],
             [
              0.7777777777777778,
              "#fb9f3a"
             ],
             [
              0.8888888888888888,
              "#fdca26"
             ],
             [
              1,
              "#f0f921"
             ]
            ],
            "type": "heatmap"
           }
          ],
          "heatmapgl": [
           {
            "colorbar": {
             "outlinewidth": 0,
             "ticks": ""
            },
            "colorscale": [
             [
              0,
              "#0d0887"
             ],
             [
              0.1111111111111111,
              "#46039f"
             ],
             [
              0.2222222222222222,
              "#7201a8"
             ],
             [
              0.3333333333333333,
              "#9c179e"
             ],
             [
              0.4444444444444444,
              "#bd3786"
             ],
             [
              0.5555555555555556,
              "#d8576b"
             ],
             [
              0.6666666666666666,
              "#ed7953"
             ],
             [
              0.7777777777777778,
              "#fb9f3a"
             ],
             [
              0.8888888888888888,
              "#fdca26"
             ],
             [
              1,
              "#f0f921"
             ]
            ],
            "type": "heatmapgl"
           }
          ],
          "histogram": [
           {
            "marker": {
             "pattern": {
              "fillmode": "overlay",
              "size": 10,
              "solidity": 0.2
             }
            },
            "type": "histogram"
           }
          ],
          "histogram2d": [
           {
            "colorbar": {
             "outlinewidth": 0,
             "ticks": ""
            },
            "colorscale": [
             [
              0,
              "#0d0887"
             ],
             [
              0.1111111111111111,
              "#46039f"
             ],
             [
              0.2222222222222222,
              "#7201a8"
             ],
             [
              0.3333333333333333,
              "#9c179e"
             ],
             [
              0.4444444444444444,
              "#bd3786"
             ],
             [
              0.5555555555555556,
              "#d8576b"
             ],
             [
              0.6666666666666666,
              "#ed7953"
             ],
             [
              0.7777777777777778,
              "#fb9f3a"
             ],
             [
              0.8888888888888888,
              "#fdca26"
             ],
             [
              1,
              "#f0f921"
             ]
            ],
            "type": "histogram2d"
           }
          ],
          "histogram2dcontour": [
           {
            "colorbar": {
             "outlinewidth": 0,
             "ticks": ""
            },
            "colorscale": [
             [
              0,
              "#0d0887"
             ],
             [
              0.1111111111111111,
              "#46039f"
             ],
             [
              0.2222222222222222,
              "#7201a8"
             ],
             [
              0.3333333333333333,
              "#9c179e"
             ],
             [
              0.4444444444444444,
              "#bd3786"
             ],
             [
              0.5555555555555556,
              "#d8576b"
             ],
             [
              0.6666666666666666,
              "#ed7953"
             ],
             [
              0.7777777777777778,
              "#fb9f3a"
             ],
             [
              0.8888888888888888,
              "#fdca26"
             ],
             [
              1,
              "#f0f921"
             ]
            ],
            "type": "histogram2dcontour"
           }
          ],
          "mesh3d": [
           {
            "colorbar": {
             "outlinewidth": 0,
             "ticks": ""
            },
            "type": "mesh3d"
           }
          ],
          "parcoords": [
           {
            "line": {
             "colorbar": {
              "outlinewidth": 0,
              "ticks": ""
             }
            },
            "type": "parcoords"
           }
          ],
          "pie": [
           {
            "automargin": true,
            "type": "pie"
           }
          ],
          "scatter": [
           {
            "fillpattern": {
             "fillmode": "overlay",
             "size": 10,
             "solidity": 0.2
            },
            "type": "scatter"
           }
          ],
          "scatter3d": [
           {
            "line": {
             "colorbar": {
              "outlinewidth": 0,
              "ticks": ""
             }
            },
            "marker": {
             "colorbar": {
              "outlinewidth": 0,
              "ticks": ""
             }
            },
            "type": "scatter3d"
           }
          ],
          "scattercarpet": [
           {
            "marker": {
             "colorbar": {
              "outlinewidth": 0,
              "ticks": ""
             }
            },
            "type": "scattercarpet"
           }
          ],
          "scattergeo": [
           {
            "marker": {
             "colorbar": {
              "outlinewidth": 0,
              "ticks": ""
             }
            },
            "type": "scattergeo"
           }
          ],
          "scattergl": [
           {
            "marker": {
             "colorbar": {
              "outlinewidth": 0,
              "ticks": ""
             }
            },
            "type": "scattergl"
           }
          ],
          "scattermapbox": [
           {
            "marker": {
             "colorbar": {
              "outlinewidth": 0,
              "ticks": ""
             }
            },
            "type": "scattermapbox"
           }
          ],
          "scatterpolar": [
           {
            "marker": {
             "colorbar": {
              "outlinewidth": 0,
              "ticks": ""
             }
            },
            "type": "scatterpolar"
           }
          ],
          "scatterpolargl": [
           {
            "marker": {
             "colorbar": {
              "outlinewidth": 0,
              "ticks": ""
             }
            },
            "type": "scatterpolargl"
           }
          ],
          "scatterternary": [
           {
            "marker": {
             "colorbar": {
              "outlinewidth": 0,
              "ticks": ""
             }
            },
            "type": "scatterternary"
           }
          ],
          "surface": [
           {
            "colorbar": {
             "outlinewidth": 0,
             "ticks": ""
            },
            "colorscale": [
             [
              0,
              "#0d0887"
             ],
             [
              0.1111111111111111,
              "#46039f"
             ],
             [
              0.2222222222222222,
              "#7201a8"
             ],
             [
              0.3333333333333333,
              "#9c179e"
             ],
             [
              0.4444444444444444,
              "#bd3786"
             ],
             [
              0.5555555555555556,
              "#d8576b"
             ],
             [
              0.6666666666666666,
              "#ed7953"
             ],
             [
              0.7777777777777778,
              "#fb9f3a"
             ],
             [
              0.8888888888888888,
              "#fdca26"
             ],
             [
              1,
              "#f0f921"
             ]
            ],
            "type": "surface"
           }
          ],
          "table": [
           {
            "cells": {
             "fill": {
              "color": "#EBF0F8"
             },
             "line": {
              "color": "white"
             }
            },
            "header": {
             "fill": {
              "color": "#C8D4E3"
             },
             "line": {
              "color": "white"
             }
            },
            "type": "table"
           }
          ]
         },
         "layout": {
          "annotationdefaults": {
           "arrowcolor": "#2a3f5f",
           "arrowhead": 0,
           "arrowwidth": 1
          },
          "autotypenumbers": "strict",
          "coloraxis": {
           "colorbar": {
            "outlinewidth": 0,
            "ticks": ""
           }
          },
          "colorscale": {
           "diverging": [
            [
             0,
             "#8e0152"
            ],
            [
             0.1,
             "#c51b7d"
            ],
            [
             0.2,
             "#de77ae"
            ],
            [
             0.3,
             "#f1b6da"
            ],
            [
             0.4,
             "#fde0ef"
            ],
            [
             0.5,
             "#f7f7f7"
            ],
            [
             0.6,
             "#e6f5d0"
            ],
            [
             0.7,
             "#b8e186"
            ],
            [
             0.8,
             "#7fbc41"
            ],
            [
             0.9,
             "#4d9221"
            ],
            [
             1,
             "#276419"
            ]
           ],
           "sequential": [
            [
             0,
             "#0d0887"
            ],
            [
             0.1111111111111111,
             "#46039f"
            ],
            [
             0.2222222222222222,
             "#7201a8"
            ],
            [
             0.3333333333333333,
             "#9c179e"
            ],
            [
             0.4444444444444444,
             "#bd3786"
            ],
            [
             0.5555555555555556,
             "#d8576b"
            ],
            [
             0.6666666666666666,
             "#ed7953"
            ],
            [
             0.7777777777777778,
             "#fb9f3a"
            ],
            [
             0.8888888888888888,
             "#fdca26"
            ],
            [
             1,
             "#f0f921"
            ]
           ],
           "sequentialminus": [
            [
             0,
             "#0d0887"
            ],
            [
             0.1111111111111111,
             "#46039f"
            ],
            [
             0.2222222222222222,
             "#7201a8"
            ],
            [
             0.3333333333333333,
             "#9c179e"
            ],
            [
             0.4444444444444444,
             "#bd3786"
            ],
            [
             0.5555555555555556,
             "#d8576b"
            ],
            [
             0.6666666666666666,
             "#ed7953"
            ],
            [
             0.7777777777777778,
             "#fb9f3a"
            ],
            [
             0.8888888888888888,
             "#fdca26"
            ],
            [
             1,
             "#f0f921"
            ]
           ]
          },
          "colorway": [
           "#636efa",
           "#EF553B",
           "#00cc96",
           "#ab63fa",
           "#FFA15A",
           "#19d3f3",
           "#FF6692",
           "#B6E880",
           "#FF97FF",
           "#FECB52"
          ],
          "font": {
           "color": "#2a3f5f"
          },
          "geo": {
           "bgcolor": "white",
           "lakecolor": "white",
           "landcolor": "#E5ECF6",
           "showlakes": true,
           "showland": true,
           "subunitcolor": "white"
          },
          "hoverlabel": {
           "align": "left"
          },
          "hovermode": "closest",
          "mapbox": {
           "style": "light"
          },
          "paper_bgcolor": "white",
          "plot_bgcolor": "#E5ECF6",
          "polar": {
           "angularaxis": {
            "gridcolor": "white",
            "linecolor": "white",
            "ticks": ""
           },
           "bgcolor": "#E5ECF6",
           "radialaxis": {
            "gridcolor": "white",
            "linecolor": "white",
            "ticks": ""
           }
          },
          "scene": {
           "xaxis": {
            "backgroundcolor": "#E5ECF6",
            "gridcolor": "white",
            "gridwidth": 2,
            "linecolor": "white",
            "showbackground": true,
            "ticks": "",
            "zerolinecolor": "white"
           },
           "yaxis": {
            "backgroundcolor": "#E5ECF6",
            "gridcolor": "white",
            "gridwidth": 2,
            "linecolor": "white",
            "showbackground": true,
            "ticks": "",
            "zerolinecolor": "white"
           },
           "zaxis": {
            "backgroundcolor": "#E5ECF6",
            "gridcolor": "white",
            "gridwidth": 2,
            "linecolor": "white",
            "showbackground": true,
            "ticks": "",
            "zerolinecolor": "white"
           }
          },
          "shapedefaults": {
           "line": {
            "color": "#2a3f5f"
           }
          },
          "ternary": {
           "aaxis": {
            "gridcolor": "white",
            "linecolor": "white",
            "ticks": ""
           },
           "baxis": {
            "gridcolor": "white",
            "linecolor": "white",
            "ticks": ""
           },
           "bgcolor": "#E5ECF6",
           "caxis": {
            "gridcolor": "white",
            "linecolor": "white",
            "ticks": ""
           }
          },
          "title": {
           "x": 0.05
          },
          "xaxis": {
           "automargin": true,
           "gridcolor": "white",
           "linecolor": "white",
           "ticks": "",
           "title": {
            "standoff": 15
           },
           "zerolinecolor": "white",
           "zerolinewidth": 2
          },
          "yaxis": {
           "automargin": true,
           "gridcolor": "white",
           "linecolor": "white",
           "ticks": "",
           "title": {
            "standoff": 15
           },
           "zerolinecolor": "white",
           "zerolinewidth": 2
          }
         }
        }
       }
      }
     },
     "metadata": {},
     "output_type": "display_data"
    }
   ],
   "source": [
    "colors = px.colors.qualitative.Pastel\n",
    "fig2 = go.Figure(data=[go.Pie(labels=df_grouped_areas_con['Area_conhecimento'], values=df_grouped_areas_con['Count'], hole=0.4, marker=dict(colors=colors))])\n",
    "fig2.show()"
   ]
  },
  {
   "cell_type": "code",
   "execution_count": null,
   "metadata": {},
   "outputs": [],
   "source": []
  },
  {
   "cell_type": "markdown",
   "metadata": {},
   "source": [
    "### Distribuição temporal"
   ]
  },
  {
   "cell_type": "code",
   "execution_count": 72,
   "metadata": {},
   "outputs": [],
   "source": [
    "from datetime import datetime\n"
   ]
  },
  {
   "cell_type": "code",
   "execution_count": 73,
   "metadata": {},
   "outputs": [],
   "source": [
    "df['DT_TITULACAO'] = df['DT_TITULACAO'].apply(lambda x: datetime.strptime(x,'%d%b%Y:%H:%M:%S'))"
   ]
  },
  {
   "cell_type": "code",
   "execution_count": 74,
   "metadata": {},
   "outputs": [],
   "source": [
    "df['DT_TITULACAO'] = df['DT_TITULACAO'].apply(lambda x: datetime.strftime(x,'%d%m%Y'))"
   ]
  },
  {
   "cell_type": "code",
   "execution_count": 75,
   "metadata": {},
   "outputs": [
    {
     "data": {
      "text/plain": [
       "<pandas.core.groupby.generic.DataFrameGroupBy object at 0x0000026827F3D1E0>"
      ]
     },
     "execution_count": 75,
     "metadata": {},
     "output_type": "execute_result"
    }
   ],
   "source": [
    "df.groupby('DT_TITULACAO')"
   ]
  },
  {
   "cell_type": "markdown",
   "metadata": {},
   "source": [
    "## Processamento de Linguagem Natural"
   ]
  },
  {
   "cell_type": "code",
   "execution_count": 76,
   "metadata": {},
   "outputs": [
    {
     "name": "stderr",
     "output_type": "stream",
     "text": [
      "C:\\Users\\luana\\AppData\\Local\\Temp\\ipykernel_25024\\790113457.py:7: SettingWithCopyWarning:\n",
      "\n",
      "\n",
      "A value is trying to be set on a copy of a slice from a DataFrame.\n",
      "Try using .loc[row_indexer,col_indexer] = value instead\n",
      "\n",
      "See the caveats in the documentation: https://pandas.pydata.org/pandas-docs/stable/user_guide/indexing.html#returning-a-view-versus-a-copy\n",
      "\n"
     ]
    },
    {
     "data": {
      "text/html": [
       "<div>\n",
       "<style scoped>\n",
       "    .dataframe tbody tr th:only-of-type {\n",
       "        vertical-align: middle;\n",
       "    }\n",
       "\n",
       "    .dataframe tbody tr th {\n",
       "        vertical-align: top;\n",
       "    }\n",
       "\n",
       "    .dataframe thead th {\n",
       "        text-align: right;\n",
       "    }\n",
       "</style>\n",
       "<table border=\"1\" class=\"dataframe\">\n",
       "  <thead>\n",
       "    <tr style=\"text-align: right;\">\n",
       "      <th></th>\n",
       "      <th>resumo</th>\n",
       "      <th>area</th>\n",
       "      <th>tokens</th>\n",
       "    </tr>\n",
       "  </thead>\n",
       "  <tbody>\n",
       "    <tr>\n",
       "      <th>0</th>\n",
       "      <td>O TERRITÓRIO AMAZÔNICO É RECONHECIDO PELA SUA ...</td>\n",
       "      <td>MULTIDISCIPLINAR</td>\n",
       "      <td>[O, TERRITÓRIO, AMAZÔNICO, É, RECONHECIDO, PEL...</td>\n",
       "    </tr>\n",
       "    <tr>\n",
       "      <th>1</th>\n",
       "      <td>A RELAÇÃO ENTRE O HOMEM E AS PLANTAS FOI ESTAB...</td>\n",
       "      <td>MULTIDISCIPLINAR</td>\n",
       "      <td>[A, RELAÇÃO, ENTRE, O, HOMEM, E, AS, PLANTAS, ...</td>\n",
       "    </tr>\n",
       "    <tr>\n",
       "      <th>2</th>\n",
       "      <td>A UTILIZAÇÃO DE MICRO-ORGANISMOS ENDOFÍTICOS C...</td>\n",
       "      <td>MULTIDISCIPLINAR</td>\n",
       "      <td>[A, UTILIZAÇÃO, DE, MICRO-ORGANISMOS, ENDOFÍTI...</td>\n",
       "    </tr>\n",
       "    <tr>\n",
       "      <th>3</th>\n",
       "      <td>OS FUNGOS FILAMENTOSOS SÃO CONSIDERADOS BOAS F...</td>\n",
       "      <td>MULTIDISCIPLINAR</td>\n",
       "      <td>[OS, FUNGOS, FILAMENTOSOS, SÃO, CONSIDERADOS, ...</td>\n",
       "    </tr>\n",
       "    <tr>\n",
       "      <th>4</th>\n",
       "      <td>A MALÁRIA É UMA DAS DOENÇAS MAIS FATAIS QUE AF...</td>\n",
       "      <td>MULTIDISCIPLINAR</td>\n",
       "      <td>[A, MALÁRIA, É, UMA, DAS, DOENÇAS, MAIS, FATAI...</td>\n",
       "    </tr>\n",
       "  </tbody>\n",
       "</table>\n",
       "</div>"
      ],
      "text/plain": [
       "                                              resumo              area  \\\n",
       "0  O TERRITÓRIO AMAZÔNICO É RECONHECIDO PELA SUA ...  MULTIDISCIPLINAR   \n",
       "1  A RELAÇÃO ENTRE O HOMEM E AS PLANTAS FOI ESTAB...  MULTIDISCIPLINAR   \n",
       "2  A UTILIZAÇÃO DE MICRO-ORGANISMOS ENDOFÍTICOS C...  MULTIDISCIPLINAR   \n",
       "3  OS FUNGOS FILAMENTOSOS SÃO CONSIDERADOS BOAS F...  MULTIDISCIPLINAR   \n",
       "4  A MALÁRIA É UMA DAS DOENÇAS MAIS FATAIS QUE AF...  MULTIDISCIPLINAR   \n",
       "\n",
       "                                              tokens  \n",
       "0  [O, TERRITÓRIO, AMAZÔNICO, É, RECONHECIDO, PEL...  \n",
       "1  [A, RELAÇÃO, ENTRE, O, HOMEM, E, AS, PLANTAS, ...  \n",
       "2  [A, UTILIZAÇÃO, DE, MICRO-ORGANISMOS, ENDOFÍTI...  \n",
       "3  [OS, FUNGOS, FILAMENTOSOS, SÃO, CONSIDERADOS, ...  \n",
       "4  [A, MALÁRIA, É, UMA, DAS, DOENÇAS, MAIS, FATAI...  "
      ]
     },
     "execution_count": 76,
     "metadata": {},
     "output_type": "execute_result"
    }
   ],
   "source": [
    "import nltk\n",
    "from nltk.tokenize import word_tokenize\n",
    "from pathlib import Path\n",
    "\n",
    "resumo_df = df[[\"DS_RESUMO\",\"NM_GRANDE_AREA_CONHECIMENTO\"]]\n",
    "resumo_df.columns = [\"resumo\", \"area\"]\n",
    "resumo_df['tokens'] = resumo_df[\"resumo\"].apply(lambda x: word_tokenize(str(x)))\n",
    "\n",
    "resumo_df.head()"
   ]
  },
  {
   "cell_type": "code",
   "execution_count": 83,
   "metadata": {},
   "outputs": [
    {
     "name": "stderr",
     "output_type": "stream",
     "text": [
      "[nltk_data] Downloading package stopwords to\n",
      "[nltk_data]     C:\\Users\\luana\\AppData\\Roaming\\nltk_data...\n",
      "[nltk_data]   Package stopwords is already up-to-date!\n"
     ]
    }
   ],
   "source": [
    "import nltk\n",
    "nltk.download('stopwords')\n",
    "\n",
    "stopwords = nltk.corpus.stopwords.words('portuguese')"
   ]
  },
  {
   "cell_type": "code",
   "execution_count": 84,
   "metadata": {},
   "outputs": [],
   "source": [
    "# stopwords = {word.strip() for word in set(Path(\"stopwords.txt\").read_text().split(\"\\n\"))}\n",
    "# stopwords"
   ]
  },
  {
   "cell_type": "code",
   "execution_count": 85,
   "metadata": {},
   "outputs": [
    {
     "name": "stderr",
     "output_type": "stream",
     "text": [
      "C:\\Users\\luana\\AppData\\Local\\Temp\\ipykernel_25024\\2091856510.py:1: SettingWithCopyWarning:\n",
      "\n",
      "\n",
      "A value is trying to be set on a copy of a slice from a DataFrame.\n",
      "Try using .loc[row_indexer,col_indexer] = value instead\n",
      "\n",
      "See the caveats in the documentation: https://pandas.pydata.org/pandas-docs/stable/user_guide/indexing.html#returning-a-view-versus-a-copy\n",
      "\n"
     ]
    },
    {
     "data": {
      "text/html": [
       "<div>\n",
       "<style scoped>\n",
       "    .dataframe tbody tr th:only-of-type {\n",
       "        vertical-align: middle;\n",
       "    }\n",
       "\n",
       "    .dataframe tbody tr th {\n",
       "        vertical-align: top;\n",
       "    }\n",
       "\n",
       "    .dataframe thead th {\n",
       "        text-align: right;\n",
       "    }\n",
       "</style>\n",
       "<table border=\"1\" class=\"dataframe\">\n",
       "  <thead>\n",
       "    <tr style=\"text-align: right;\">\n",
       "      <th></th>\n",
       "      <th>resumo</th>\n",
       "      <th>area</th>\n",
       "      <th>tokens</th>\n",
       "      <th>filtered</th>\n",
       "    </tr>\n",
       "  </thead>\n",
       "  <tbody>\n",
       "    <tr>\n",
       "      <th>0</th>\n",
       "      <td>O TERRITÓRIO AMAZÔNICO É RECONHECIDO PELA SUA ...</td>\n",
       "      <td>MULTIDISCIPLINAR</td>\n",
       "      <td>[O, TERRITÓRIO, AMAZÔNICO, É, RECONHECIDO, PEL...</td>\n",
       "      <td>TERRITÓRIO AMAZÔNICO RECONHECIDO GRANDE BIODIV...</td>\n",
       "    </tr>\n",
       "    <tr>\n",
       "      <th>1</th>\n",
       "      <td>A RELAÇÃO ENTRE O HOMEM E AS PLANTAS FOI ESTAB...</td>\n",
       "      <td>MULTIDISCIPLINAR</td>\n",
       "      <td>[A, RELAÇÃO, ENTRE, O, HOMEM, E, AS, PLANTAS, ...</td>\n",
       "      <td>RELAÇÃO HOMEM PLANTAS ESTABELECIDA DESDE PRIMÓ...</td>\n",
       "    </tr>\n",
       "    <tr>\n",
       "      <th>2</th>\n",
       "      <td>A UTILIZAÇÃO DE MICRO-ORGANISMOS ENDOFÍTICOS C...</td>\n",
       "      <td>MULTIDISCIPLINAR</td>\n",
       "      <td>[A, UTILIZAÇÃO, DE, MICRO-ORGANISMOS, ENDOFÍTI...</td>\n",
       "      <td>UTILIZAÇÃO MICRO-ORGANISMOS ENDOFÍTICOS FONTE ...</td>\n",
       "    </tr>\n",
       "    <tr>\n",
       "      <th>3</th>\n",
       "      <td>OS FUNGOS FILAMENTOSOS SÃO CONSIDERADOS BOAS F...</td>\n",
       "      <td>MULTIDISCIPLINAR</td>\n",
       "      <td>[OS, FUNGOS, FILAMENTOSOS, SÃO, CONSIDERADOS, ...</td>\n",
       "      <td>FUNGOS FILAMENTOSOS CONSIDERADOS BOAS FONTES P...</td>\n",
       "    </tr>\n",
       "    <tr>\n",
       "      <th>4</th>\n",
       "      <td>A MALÁRIA É UMA DAS DOENÇAS MAIS FATAIS QUE AF...</td>\n",
       "      <td>MULTIDISCIPLINAR</td>\n",
       "      <td>[A, MALÁRIA, É, UMA, DAS, DOENÇAS, MAIS, FATAI...</td>\n",
       "      <td>MALÁRIA DOENÇAS FATAIS AFETA HUMANIDADE . DURA...</td>\n",
       "    </tr>\n",
       "  </tbody>\n",
       "</table>\n",
       "</div>"
      ],
      "text/plain": [
       "                                              resumo              area  \\\n",
       "0  O TERRITÓRIO AMAZÔNICO É RECONHECIDO PELA SUA ...  MULTIDISCIPLINAR   \n",
       "1  A RELAÇÃO ENTRE O HOMEM E AS PLANTAS FOI ESTAB...  MULTIDISCIPLINAR   \n",
       "2  A UTILIZAÇÃO DE MICRO-ORGANISMOS ENDOFÍTICOS C...  MULTIDISCIPLINAR   \n",
       "3  OS FUNGOS FILAMENTOSOS SÃO CONSIDERADOS BOAS F...  MULTIDISCIPLINAR   \n",
       "4  A MALÁRIA É UMA DAS DOENÇAS MAIS FATAIS QUE AF...  MULTIDISCIPLINAR   \n",
       "\n",
       "                                              tokens  \\\n",
       "0  [O, TERRITÓRIO, AMAZÔNICO, É, RECONHECIDO, PEL...   \n",
       "1  [A, RELAÇÃO, ENTRE, O, HOMEM, E, AS, PLANTAS, ...   \n",
       "2  [A, UTILIZAÇÃO, DE, MICRO-ORGANISMOS, ENDOFÍTI...   \n",
       "3  [OS, FUNGOS, FILAMENTOSOS, SÃO, CONSIDERADOS, ...   \n",
       "4  [A, MALÁRIA, É, UMA, DAS, DOENÇAS, MAIS, FATAI...   \n",
       "\n",
       "                                            filtered  \n",
       "0  TERRITÓRIO AMAZÔNICO RECONHECIDO GRANDE BIODIV...  \n",
       "1  RELAÇÃO HOMEM PLANTAS ESTABELECIDA DESDE PRIMÓ...  \n",
       "2  UTILIZAÇÃO MICRO-ORGANISMOS ENDOFÍTICOS FONTE ...  \n",
       "3  FUNGOS FILAMENTOSOS CONSIDERADOS BOAS FONTES P...  \n",
       "4  MALÁRIA DOENÇAS FATAIS AFETA HUMANIDADE . DURA...  "
      ]
     },
     "execution_count": 85,
     "metadata": {},
     "output_type": "execute_result"
    }
   ],
   "source": [
    "resumo_df[\"filtered\"] = resumo_df[\"tokens\"].apply(lambda x: \" \".join([word for word in x if word.lower() not in stopwords]))\n",
    "resumo_df.head()"
   ]
  },
  {
   "cell_type": "code",
   "execution_count": 86,
   "metadata": {},
   "outputs": [
    {
     "data": {
      "text/plain": [
       "array(['MULTIDISCIPLINAR', 'CIÊNCIAS BIOLÓGICAS', 'CIÊNCIAS DA SAÚDE',\n",
       "       'ENGENHARIAS', 'CIÊNCIAS AGRÁRIAS', 'LINGÜÍSTICA, LETRAS E ARTES',\n",
       "       'CIÊNCIAS SOCIAIS APLICADAS', 'CIÊNCIAS HUMANAS',\n",
       "       'CIÊNCIAS EXATAS E DA TERRA'], dtype=object)"
      ]
     },
     "execution_count": 86,
     "metadata": {},
     "output_type": "execute_result"
    }
   ],
   "source": [
    "resumo_df['area'].unique()"
   ]
  },
  {
   "cell_type": "code",
   "execution_count": 87,
   "metadata": {},
   "outputs": [],
   "source": [
    "import wordcloud\n",
    "\n",
    "output = Path(\"results\")\n",
    "output.mkdir(parents=True, exist_ok=True)\n",
    "\n",
    "grouped_area = resumo_df.groupby(\"area\")[\"filtered\"].apply(' '.join).reset_index()\n",
    "\n",
    "for index, row in grouped_area.iterrows():\n",
    "\n",
    "    filename = output / f\"{row['area']}.png\"\n",
    "\n",
    "    word = wordcloud.WordCloud(width=800, height=400, background_color=\"white\", stopwords=stopwords).generate(row['filtered'])\n",
    "\n",
    "    word.to_file(filename)\n"
   ]
  },
  {
   "cell_type": "code",
   "execution_count": 88,
   "metadata": {},
   "outputs": [
    {
     "name": "stdout",
     "output_type": "stream",
     "text": [
      "Requirement already satisfied: wordcloud in c:\\users\\luana\\anaconda3\\lib\\site-packages (1.9.3)\n",
      "Requirement already satisfied: numpy>=1.6.1 in c:\\users\\luana\\anaconda3\\lib\\site-packages (from wordcloud) (1.23.5)\n",
      "Requirement already satisfied: pillow in c:\\users\\luana\\anaconda3\\lib\\site-packages (from wordcloud) (9.4.0)\n",
      "Requirement already satisfied: matplotlib in c:\\users\\luana\\anaconda3\\lib\\site-packages (from wordcloud) (3.7.0)\n",
      "Requirement already satisfied: cycler>=0.10 in c:\\users\\luana\\anaconda3\\lib\\site-packages (from matplotlib->wordcloud) (0.11.0)\n",
      "Requirement already satisfied: pyparsing>=2.3.1 in c:\\users\\luana\\anaconda3\\lib\\site-packages (from matplotlib->wordcloud) (3.0.9)\n",
      "Requirement already satisfied: fonttools>=4.22.0 in c:\\users\\luana\\anaconda3\\lib\\site-packages (from matplotlib->wordcloud) (4.25.0)\n",
      "Requirement already satisfied: kiwisolver>=1.0.1 in c:\\users\\luana\\anaconda3\\lib\\site-packages (from matplotlib->wordcloud) (1.4.4)\n",
      "Requirement already satisfied: packaging>=20.0 in c:\\users\\luana\\anaconda3\\lib\\site-packages (from matplotlib->wordcloud) (22.0)\n",
      "Requirement already satisfied: contourpy>=1.0.1 in c:\\users\\luana\\anaconda3\\lib\\site-packages (from matplotlib->wordcloud) (1.0.5)\n",
      "Requirement already satisfied: python-dateutil>=2.7 in c:\\users\\luana\\anaconda3\\lib\\site-packages (from matplotlib->wordcloud) (2.8.2)\n",
      "Requirement already satisfied: six>=1.5 in c:\\users\\luana\\anaconda3\\lib\\site-packages (from python-dateutil>=2.7->matplotlib->wordcloud) (1.16.0)\n"
     ]
    }
   ],
   "source": [
    "! pip install wordcloud"
   ]
  },
  {
   "cell_type": "code",
   "execution_count": null,
   "metadata": {},
   "outputs": [],
   "source": []
  }
 ],
 "metadata": {
  "kernelspec": {
   "display_name": "Python 3",
   "language": "python",
   "name": "python3"
  },
  "language_info": {
   "codemirror_mode": {
    "name": "ipython",
    "version": 3
   },
   "file_extension": ".py",
   "mimetype": "text/x-python",
   "name": "python",
   "nbconvert_exporter": "python",
   "pygments_lexer": "ipython3",
   "version": "3.10.9"
  }
 },
 "nbformat": 4,
 "nbformat_minor": 2
}
